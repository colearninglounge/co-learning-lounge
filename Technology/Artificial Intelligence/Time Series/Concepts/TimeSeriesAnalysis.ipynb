{
 "cells": [
  {
   "cell_type": "markdown",
   "metadata": {},
   "source": [
    "# Time-Series Manipulation and Visualization for Weather data\n",
    "\n",
    "#### Time-series are ubiquitous, and analyzing various time-series around us can provide us abundant information. Let's learn how to manipulate and visualize a weather related time-series and deduce information from it.\n",
    "\n",
    "<img src='LifeasaTimeSeries.png'>\n",
    "\n",
    "Post your doubt/feedback/discussion in our FB group unit <a href='https://www.facebook.com/groups/colearninglounge/'>here</a> in the appropriate section."
   ]
  },
  {
   "cell_type": "markdown",
   "metadata": {},
   "source": [
    "## Table of Contents:\n",
    "<ul>\n",
    "    <li>Introduction</li>\n",
    "    <li>Import the libraries</li>\n",
    "    <li>Load the dataset</li>\n",
    "    <li>Pre-processing the data</li>\n",
    "    <ul>\n",
    "        <li> Converting strings to timestamps</li>\n",
    "        <li> Dealing with NaNs in the dataset</li>\n",
    "        <li> Resampling the time-series</li>\n",
    "        <li> Combining the time-series</li>\n",
    "    </ul>\n",
    "    <li>Visualizing the time-series</li>\n",
    "    <li>Augmented Dickey Fuller Test to test stationarity of time-series</li>\n",
    "    <li>Auto Co-relation and Partial auto co-relation plot</li>\n",
    "    <li>Summary</li>\n",
    "    <li>Credits</li>\n",
    "    \n",
    "</ul>"
   ]
  },
  {
   "cell_type": "markdown",
   "metadata": {},
   "source": [
    "### Introduction\n",
    "\n",
    "In this tutorial, we will learn how to analyze and pre-process a time-series dataset, before one can apply any statistical or machine learning modelling on it. We will start by downloading a time-series dataset. Then we will pre-process it to make sure that time series is continuous, equispaced and consistent. Then we will go on to visualize the data. Finally, we will learn the significance of stationarity of time series data, auto correlation and partial auto correlation plot.\n",
    "\n",
    "### Import the libraries\n",
    "Python provides a variety of libraries to ease out the computational challenges of coding and handle time-series data rather easily. Here we import the essential libraries for time-series analysis and visualization.\n",
    "<ul>\n",
    "    <li> <b> Pandas </b> : This library provides data structures and oprations for manipulating numerical tables and time series. </li>\n",
    "    <li> <b> Datetime </b> : This library has classes for manipulating dates and times in both simple and complex ways. </li>\n",
    "    <li> <b> Matplotlib </b> : It provides data visualization functionality. </li>\n",
    "     <li> <b> Statsmodels </b> : It provides classes and functions for the estimation of many different statistical models, as well as for conducting statistical tests, and statistical data exploration. </li>"
   ]
  },
  {
   "cell_type": "code",
   "execution_count": 59,
   "metadata": {},
   "outputs": [],
   "source": [
    "import pandas as pd\n",
    "import datetime\n",
    "import matplotlib.pyplot as plt\n",
    "from statsmodels.tsa.stattools import adfuller\n",
    "from statsmodels.graphics.tsaplots import plot_acf\n",
    "from statsmodels.graphics.tsaplots import plot_pacf"
   ]
  },
  {
   "cell_type": "markdown",
   "metadata": {},
   "source": [
    "### Load the Dataset\n",
    "\n",
    "For this tutorial we will be using Minimum Temperatures in Melbourne Data Set, which you can download from <a href=\"https://www.kaggle.com/paulbrabban/daily-minimum-temperatures-in-melbourne#daily-minimum-temperatures-in-me.csv\"> here</a>. This is a univariate dataset containing minimum temperature in Melbourne for every day from 1st January, 1981 to 31st December, 1990.\n",
    "\n",
    "There are multiple ways of reading a file in a python program, reading a file as a dataframe using `Pandas` package is the most convenient one. First and foremost, on downloading the file, we need to see the whether or not header & footer is present and the delimiter being used and specify that while reading the file.\n",
    "\n",
    "Since here we are working with time series, we need to set date parser to True. We can make 'Date' column of the dataset as the index column, but we will be setting index further in the tutorial.\n",
    "\n",
    "You may use some other dataset, which may need some other specifications to be read properly into a dataframe, you can find the apt attributes for read_csv function <a href=\"https://pandas.pydata.org/pandas-docs/stable/generated/pandas.read_csv.html\"> here</a>.\n",
    "\n",
    "**Note**: The downloaded file contains some question mark `?` characters that must be removed before you can use the dataset. "
   ]
  },
  {
   "cell_type": "code",
   "execution_count": 39,
   "metadata": {},
   "outputs": [],
   "source": [
    "df = pd.read_csv('daily-minimum-temperatures-in-me.csv', delimiter = ',', header=0, skipfooter=2, parse_dates=True, engine='python')"
   ]
  },
  {
   "cell_type": "markdown",
   "metadata": {},
   "source": [
    "We can see the first five entries or last five entries to make sure your dataframe has been read properly, using the following two commands:"
   ]
  },
  {
   "cell_type": "code",
   "execution_count": 40,
   "metadata": {
    "scrolled": true
   },
   "outputs": [
    {
     "name": "stdout",
     "output_type": "stream",
     "text": [
      "         Date  Daily minimum temperatures in Melbourne, Australia, 1981-1990  \\\n",
      "0  1981-01-01                                               20.7               \n",
      "1  1981-01-02                                               17.9               \n",
      "2  1981-01-03                                               18.8               \n",
      "3  1981-01-04                                               14.6               \n",
      "4  1981-01-05                                               15.8               \n",
      "\n",
      "   Unnamed: 2  \n",
      "0         NaN  \n",
      "1         NaN  \n",
      "2         NaN  \n",
      "3         NaN  \n",
      "4         NaN  \n",
      "            Date  \\\n",
      "3645  1990-12-27   \n",
      "3646  1990-12-28   \n",
      "3647  1990-12-29   \n",
      "3648  1990-12-30   \n",
      "3649  1990-12-31   \n",
      "\n",
      "      Daily minimum temperatures in Melbourne, Australia, 1981-1990  \\\n",
      "3645                                               14.0               \n",
      "3646                                               13.6               \n",
      "3647                                               13.5               \n",
      "3648                                               15.7               \n",
      "3649                                               13.0               \n",
      "\n",
      "      Unnamed: 2  \n",
      "3645         NaN  \n",
      "3646         NaN  \n",
      "3647         NaN  \n",
      "3648         NaN  \n",
      "3649         NaN  \n",
      "\n",
      " DataType of Index Column:  <class 'int'>\n"
     ]
    }
   ],
   "source": [
    "print (df.head())\n",
    "print (df.tail())\n",
    "print ('\\n DataType of Index Column: ',type(df.index[1]))"
   ]
  },
  {
   "cell_type": "markdown",
   "metadata": {},
   "source": [
    "### Pre-processing the data\n",
    "#### Converting Strings to TimeStamps\n",
    "Once, our file is read properly, it becomes fairly easy to perform certain tasks to make the data programmer friendly such as:\n",
    "<ul>\n",
    "    <li>Renaming the column name(s):\n",
    "        We can replace the long column name given with a shorter one.\n",
    "    </li>"
   ]
  },
  {
   "cell_type": "code",
   "execution_count": 41,
   "metadata": {},
   "outputs": [],
   "source": [
    "df = df.rename(columns={'Daily minimum temperatures in Melbourne, Australia, 1981-1990':'min_temp'})"
   ]
  },
  {
   "cell_type": "markdown",
   "metadata": {},
   "source": [
    "<ul>\n",
    "    <li>Setting Index Column:<br>\n",
    "        We can either set the index column while reading the file as date so date column can be accessed only as an index and the datatype of values in index column is <i>Timestamp</i>.<br>\n",
    "        Alternatively, we can set the index after reading the file using the command given below in which case Date becomes index as well as a column of dataframe. Here the datatype of values in Date column as well the index column is <i>string</i>.\n",
    "    </li>"
   ]
  },
  {
   "cell_type": "code",
   "execution_count": 42,
   "metadata": {
    "scrolled": false
   },
   "outputs": [
    {
     "name": "stdout",
     "output_type": "stream",
     "text": [
      "                  Date  min_temp  Unnamed: 2\n",
      "Date                                        \n",
      "1981-01-01  1981-01-01      20.7         NaN\n",
      "1981-01-02  1981-01-02      17.9         NaN\n",
      "1981-01-03  1981-01-03      18.8         NaN\n",
      "1981-01-04  1981-01-04      14.6         NaN\n",
      "1981-01-05  1981-01-05      15.8         NaN\n",
      "\n",
      " DataType of Index & Date :  <class 'str'> <class 'str'>\n"
     ]
    }
   ],
   "source": [
    "df.index = df.Date\n",
    "print (df.head())\n",
    "print ('\\n DataType of Index & Date : ' ,type(df.index[1]), type(df.Date[1]))"
   ]
  },
  {
   "cell_type": "markdown",
   "metadata": {},
   "source": [
    "Interesting, right?\n",
    "\n",
    "Here we need the <b>Date</b> to be a timestamp to be able to manipulate it with ease.\n",
    "For this, we will be using the `datetime` library. This package comes handy while dealing with timeseries for manipulating and formatting time. You can read and practice all that datetime package allows you to do <a href='https://docs.python.org/3/library/datetime.html'> here</a>.\n",
    "To change the datatypes of all the strings of the Index column and Date column, we will be using `map` function for index column and `lambda` function for other columns."
   ]
  },
  {
   "cell_type": "code",
   "execution_count": 43,
   "metadata": {},
   "outputs": [
    {
     "name": "stdout",
     "output_type": "stream",
     "text": [
      "\n",
      " New DataType of Index Column:  <class 'pandas._libs.tslibs.timestamps.Timestamp'>\n"
     ]
    }
   ],
   "source": [
    "df.index = df.index.map(lambda x: datetime.datetime.strptime((x),'%Y-%m-%d'))\n",
    "print ('\\n New DataType of Index Column: ' , type(df.index[1]))"
   ]
  },
  {
   "cell_type": "code",
   "execution_count": 44,
   "metadata": {
    "scrolled": false
   },
   "outputs": [
    {
     "name": "stdout",
     "output_type": "stream",
     "text": [
      "\n",
      " New DataType of Date Column:  <class 'pandas._libs.tslibs.timestamps.Timestamp'>\n"
     ]
    }
   ],
   "source": [
    "df.Date = df.Date.apply(lambda x: datetime.datetime.strptime((x),'%Y-%m-%d'))\n",
    "print ('\\n New DataType of Date Column: ' , type(df.Date[1]))"
   ]
  },
  {
   "cell_type": "markdown",
   "metadata": {},
   "source": [
    "This converts strings to Timestamps.\n",
    "#### Dealing with NaNs in the dataset\n",
    "The real world data is not perfect, it may have missing values, it may have observations at an inconsistent frequency, hence, before we can go on to model it, we need to shape it in the best possible form.\n",
    "\n",
    "In any data there are several ways of dealing with the missing data or NaN(s):\n",
    "<ul>\n",
    "    <li> Dropping NaN(s):<br>\n",
    "       When the missing values are very less, and they don't really affect our data as a whole, then you can simply drop all the NaN values. </li>\n",
    "</ul>"
   ]
  },
  {
   "cell_type": "code",
   "execution_count": 45,
   "metadata": {},
   "outputs": [],
   "source": [
    "df.min_temp = df.min_temp.dropna()"
   ]
  },
  {
   "cell_type": "markdown",
   "metadata": {},
   "source": [
    "Similarly, if in a dataframe there are a lot of repeated records which we don't want, we can drop that in  similar fashion.\n",
    "<ul>\n",
    "    <li> Replace NaN(s) with 0:<br>\n",
    "    When the missing values can't be dropped, specially in a time series because we need to maintain continuous timestamps, we can replace timestamps with 0.</li>\n",
    "</ul>"
   ]
  },
  {
   "cell_type": "code",
   "execution_count": 46,
   "metadata": {},
   "outputs": [],
   "source": [
    "df.min_temp = df.min_temp.fillna(0)"
   ]
  },
  {
   "cell_type": "markdown",
   "metadata": {},
   "source": [
    "<ul>\n",
    "    <li> Estimating the Missing Values:<br>\n",
    "    When the missing values were significant for any reaason, we can estimate their values by the preceding values, succeeding values or mean of the entire column.\n",
    "    </li>\n",
    "</ul>"
   ]
  },
  {
   "cell_type": "code",
   "execution_count": 47,
   "metadata": {},
   "outputs": [],
   "source": [
    "df.min_temp = df.min_temp.fillna(method='ffill')\n",
    "df.min_temp = df.min_temp.fillna(df.mean())"
   ]
  },
  {
   "cell_type": "markdown",
   "metadata": {},
   "source": [
    "#### Resampling a Time Series\n",
    "In a scenario where data is recorded at a frequency which is too high or too low to be able to model it, you can resample it.\n",
    "\n",
    "A time series can be resampled in the following two ways:\n",
    "<ul>\n",
    "    <li>Downsample the time series and summarize the existing observations.</li>\n",
    "    <li>Upsample the time series and interpolate the new observations.</li>\n",
    "</ul>"
   ]
  },
  {
   "cell_type": "markdown",
   "metadata": {},
   "source": [
    "This dataset is sampled at each day, let's say we want to resample it in such a way that it gives you the minimum value for one month i.e. we wish to downsample it from days to months."
   ]
  },
  {
   "cell_type": "code",
   "execution_count": 48,
   "metadata": {},
   "outputs": [
    {
     "name": "stdout",
     "output_type": "stream",
     "text": [
      "                 Date  min_temp  Unnamed: 2\n",
      "Date                                       \n",
      "1981-01-31 1981-01-01      12.1         NaN\n",
      "1981-02-28 1981-02-01      13.7         NaN\n",
      "1981-03-31 1981-03-01       8.0         NaN\n",
      "1981-04-30 1981-04-01       7.4         NaN\n",
      "1981-05-31 1981-05-01       2.1         NaN\n",
      "\n",
      " Length of the downsampled series:  120\n"
     ]
    }
   ],
   "source": [
    "df_down = df.resample('1M').min()\n",
    "print (df_down.head())\n",
    "print ('\\n Length of the downsampled series: ', len(df_down))"
   ]
  },
  {
   "cell_type": "markdown",
   "metadata": {},
   "source": [
    "Now, we have one value for one month now.\n",
    "Likewise, we can resample it at a different interval and get the maximum or mean of the values for a month.\n",
    "\n",
    "Cool, Right?\n",
    "\n",
    "Now, time for the trickier one, upsampling the data.\n",
    "Let's say now from the dataset, we want to interpolate the minimum temperatures for daytime and nighttime. We can accomplish so by upsampling it at 12 hours. "
   ]
  },
  {
   "cell_type": "code",
   "execution_count": 49,
   "metadata": {},
   "outputs": [
    {
     "name": "stdout",
     "output_type": "stream",
     "text": [
      "                          Date  min_temp  Unnamed: 2\n",
      "Date                                                \n",
      "1981-01-01 00:00:00 1981-01-01      20.7         NaN\n",
      "1981-01-01 12:00:00 1981-01-01      20.7         NaN\n",
      "1981-01-02 00:00:00 1981-01-02      17.9         NaN\n",
      "1981-01-02 12:00:00 1981-01-02      17.9         NaN\n",
      "1981-01-03 00:00:00 1981-01-03      18.8         NaN\n",
      "\n",
      " Length of the upsampled series:  7303\n"
     ]
    }
   ],
   "source": [
    "df_up = df.resample('12H').ffill()\n",
    "print (df_up.head())\n",
    "print ('\\n Length of the upsampled series: ', len(df_up))"
   ]
  },
  {
   "cell_type": "markdown",
   "metadata": {},
   "source": [
    "#### Combining Time Series\n",
    "According to your problem statement, at times, we may need to combine two or more time series because data in one time series doesn't fully capture all the information we need to model the data. We can either combine time series end to end, hence, increasing the total number of observations or we can combine time series such that you add more dependent variables for the existing timestamps. \n",
    "\n",
    "There are three ways to combine two or more time series: \n",
    "<ul>\n",
    "    <li>Concatenate:<br>\n",
    "        When the time series need to be joined end to end, we concatenate them and if they aren't in order, we can sort their index.\n",
    "    </li>\n",
    "</ul>\n",
    "You can download the dataset containing the minimum temperatures for all the days of the year 1991 <a href=\"https://github.com/navekshasood/Temperature-data\">here</a>."
   ]
  },
  {
   "cell_type": "code",
   "execution_count": 50,
   "metadata": {},
   "outputs": [],
   "source": [
    "df_test = pd.read_csv('daily-minimum-temperatures-in-me-test.csv', delimiter = ',', header=0, skipfooter=2, parse_dates=True, engine='python')"
   ]
  },
  {
   "cell_type": "markdown",
   "metadata": {},
   "source": [
    "Since there is no header in this file, you will create the header."
   ]
  },
  {
   "cell_type": "code",
   "execution_count": 51,
   "metadata": {
    "scrolled": false
   },
   "outputs": [
    {
     "name": "stdout",
     "output_type": "stream",
     "text": [
      "                  Date  min_temp\n",
      "Date                            \n",
      "1991-01-02  1991-01-02      16.2\n",
      "1991-01-03  1991-01-03      16.1\n",
      "1991-01-04  1991-01-04      15.7\n",
      "1991-01-05  1991-01-05      19.5\n",
      "1991-01-06  1991-01-06      17.4\n"
     ]
    }
   ],
   "source": [
    "df_test.columns = [\"Date\", \"min_temp\"]\n",
    "df_test.index = df_test.Date\n",
    "print (df_test.head())"
   ]
  },
  {
   "cell_type": "markdown",
   "metadata": {},
   "source": [
    "Now let's combine the two datasets end to end."
   ]
  },
  {
   "cell_type": "code",
   "execution_count": 52,
   "metadata": {},
   "outputs": [
    {
     "name": "stdout",
     "output_type": "stream",
     "text": [
      "Length of 1st dataframe:  3650 \n",
      "Length of 2nd dataframe:  362\n",
      "Length of concatenated dataframe:  4012\n"
     ]
    },
    {
     "name": "stderr",
     "output_type": "stream",
     "text": [
      "/home/naveksha/.local/lib/python3.5/site-packages/ipykernel_launcher.py:3: FutureWarning: Sorting because non-concatenation axis is not aligned. A future version\n",
      "of pandas will change to not sort by default.\n",
      "\n",
      "To accept the future behavior, pass 'sort=False'.\n",
      "\n",
      "To retain the current behavior and silence the warning, pass 'sort=True'.\n",
      "\n",
      "  This is separate from the ipykernel package so we can avoid doing imports until\n"
     ]
    }
   ],
   "source": [
    "frames = [df,df_test]\n",
    "print ('Length of 1st dataframe: ',len(df),'\\nLength of 2nd dataframe: ',len(df_test))\n",
    "df_full = pd.concat(frames)\n",
    "print ('Length of concatenated dataframe: ',len(df_full))"
   ]
  },
  {
   "cell_type": "markdown",
   "metadata": {},
   "source": [
    "<ul>\n",
    "    <li>Merge:<br>\n",
    "    When two dataframes with similar values of the index needs to be joined, we will merge them.\n",
    "    </li>\n",
    "</ul>\n",
    "    You can download the dataset containg maximum temperatures in Melbourne <a href=\"https://github.com/navekshasood/Data\"> here</a>. It contains maximum temperatures for 1981 to 1991 for each day."
   ]
  },
  {
   "cell_type": "code",
   "execution_count": 53,
   "metadata": {},
   "outputs": [],
   "source": [
    "df_max = pd.read_csv('daily-maximum-temperatures-in-me.csv', delimiter = ',', header=0, skipfooter=2, parse_dates=True, index_col='Date', engine='python')"
   ]
  },
  {
   "cell_type": "code",
   "execution_count": 54,
   "metadata": {},
   "outputs": [
    {
     "name": "stdout",
     "output_type": "stream",
     "text": [
      "       key_0       Date  min_temp  Unnamed: 2  max_temp\n",
      "0 1981-01-01 1981-01-01      20.7         NaN      32.7\n",
      "1 1981-01-02 1981-01-02      17.9         NaN      31.9\n",
      "2 1981-01-03 1981-01-03      18.8         NaN      29.8\n",
      "3 1981-01-04 1981-01-04      14.6         NaN      27.6\n",
      "4 1981-01-05 1981-01-05      15.8         NaN      24.8\n"
     ]
    }
   ],
   "source": [
    "df_temp = pd.merge(df, df_max, how=\"outer\", on=df.index)\n",
    "print (df_temp.head())"
   ]
  },
  {
   "cell_type": "markdown",
   "metadata": {},
   "source": [
    "<ul>\n",
    "    <li>Join:<br>\n",
    "        It performs in the same way as merge.\n",
    "    </li>\n",
    "</ul>\n",
    "\n",
    "In both the cases we can select what kind of join you want to perform, like, outer join, inner join, left join or right join."
   ]
  },
  {
   "cell_type": "code",
   "execution_count": 55,
   "metadata": {},
   "outputs": [
    {
     "name": "stdout",
     "output_type": "stream",
     "text": [
      "                key_0       Date  min_temp  Unnamed: 2  max_temp\n",
      "Date                                                            \n",
      "1981-01-01 1981-01-01 1981-01-01      20.7         NaN      32.7\n",
      "1981-01-02 1981-01-02 1981-01-02      17.9         NaN      31.9\n",
      "1981-01-03 1981-01-03 1981-01-03      18.8         NaN      29.8\n",
      "1981-01-04 1981-01-04 1981-01-04      14.6         NaN      27.6\n",
      "1981-01-05 1981-01-05 1981-01-05      15.8         NaN      24.8\n"
     ]
    }
   ],
   "source": [
    "df_temp = df.join(df_max, how=\"outer\", on=df.index)\n",
    "print (df_temp.head())"
   ]
  },
  {
   "cell_type": "markdown",
   "metadata": {},
   "source": [
    "### Visualizing the time-series\n",
    "Once all the pre-processing of the data is done, it is useful to visualize graphs which we will do with the help of a very versatile python library `matplotlib`. It helps to see the trends and growth in the data, and helps us make sense of the data we are working with. It's also useful while comparing values of two variables.\n",
    "\n",
    "It has huge variety of plots that we can choose from according to our requirement, a few will be discussed in the following section.\n",
    "<ul>\n",
    "    <li>Line Plot</li>\n",
    "</ul>\n",
    "First you will be plotting a line graph of down sampled data of 10 years.<br>\n",
    "**Note** : Keep in mind to change the datatype of minimum tempratures to numeric value. "
   ]
  },
  {
   "cell_type": "code",
   "execution_count": 56,
   "metadata": {
    "scrolled": true
   },
   "outputs": [
    {
     "data": {
      "image/png": "[encoded data removed]",
      "text/plain": [
       "<Figure size 432x288 with 1 Axes>"
      ]
     },
     "metadata": {},
     "output_type": "display_data"
    }
   ],
   "source": [
    "df_down.min_temp = pd.to_numeric(df_down.min_temp)\n",
    "plt.plot(df_down.min_temp)\n",
    "plt.xlabel('Year')\n",
    "plt.ylabel('Temperature')\n",
    "plt.title('Line plot for Yearly Minimum Temperatures')\n",
    "plt.show()"
   ]
  },
  {
   "cell_type": "markdown",
   "metadata": {},
   "source": [
    "<ul>\n",
    "    <li>Histogram</li>\n",
    "</ul>\n",
    "\n",
    "Next we'll be plotting a histogram dividing the temperatures in various ranges and seeing in which range the temperature was most frequent."
   ]
  },
  {
   "cell_type": "code",
   "execution_count": 57,
   "metadata": {
    "scrolled": true
   },
   "outputs": [
    {
     "data": {
      "image/png": "[encoded data removed]",
      "text/plain": [
       "<Figure size 432x288 with 1 Axes>"
      ]
     },
     "metadata": {},
     "output_type": "display_data"
    }
   ],
   "source": [
    "df.min_temp = pd.to_numeric(df.min_temp)\n",
    "plt.xticks(ticks=[0,2,4,6,8,10,12,14,16,18,20,22,24,26])\n",
    "plt.hist(df.min_temp, bins=13, width=1.6, align='mid')\n",
    "plt.show()"
   ]
  },
  {
   "cell_type": "markdown",
   "metadata": {},
   "source": [
    "### Augmented Dickey Fuller Test to test stationarity of time-series\n",
    "An augmented Dickey–Fuller test (ADF) tests the null hypothesis that a unit root is present in a time series sample. The alternative hypothesis is different depending on which version of the test is used, but is usually stationarity or trend-stationarity. It is an augmented version of the Dickey–Fuller test for a larger and more complicated set of time-series models.\n",
    "\n",
    "The augmented Dickey–Fuller (ADF) statistic, used in the test, is a negative number. The more negative it is, the stronger the rejection of the hypothesis that there is a unit root at some level of confidence."
   ]
  },
  {
   "cell_type": "code",
   "execution_count": 60,
   "metadata": {
    "scrolled": true
   },
   "outputs": [
    {
     "name": "stdout",
     "output_type": "stream",
     "text": [
      "ADF Statistic: -4.423336\n",
      "p-value: 0.000270\n",
      "Critical Values:\n",
      "\t10%: -2.567\n",
      "\t5%: -2.862\n",
      "\t1%: -3.432\n"
     ]
    }
   ],
   "source": [
    "X = df.min_temp\n",
    "result = adfuller(X)\n",
    "print('ADF Statistic: %f' % result[0])\n",
    "print('p-value: %f' % result[1])\n",
    "print('Critical Values:')\n",
    "for key, value in result[4].items():\n",
    "    print('\\t%s: %.3f' % (key, value))"
   ]
  },
  {
   "cell_type": "markdown",
   "metadata": {},
   "source": [
    "Here, p-values is less than 0.05 which means the ADF Statistic is significant, and since it is more negative than the critical values, we will reject the null hypothesis, which means there's no unit root, i.e. time-series is stationary.\n",
    "\n",
    "In case, the time-series turn out to be non-stationary, we can difference the time series and do an ADF test again.\n"
   ]
  },
  {
   "cell_type": "markdown",
   "metadata": {},
   "source": [
    "### Auto-correlation & partial auto-correlation plot\n",
    "Now, moving on to an important aspect of time series which shows the dependence of a variable at a particular time on the times prior to it.\n",
    "In this section we will learn how to plot auto-correlation and partial-autocorrelation plots, their significance and interpretation.\n",
    "\n",
    "To do this you will be using a python library `statsmodels`.\n",
    "Autocorrelation is the relation of a series with itself, an AC plot or correlogram tells us that a variable is dependent on how many previous values, also termed as lags. You can limit the number of lags to a finite value to avoid noise in ACP. \n",
    "\n",
    "The values lying outside the light blue shaded region suggest a co-relation. "
   ]
  },
  {
   "cell_type": "code",
   "execution_count": 111,
   "metadata": {
    "scrolled": true
   },
   "outputs": [
    {
     "data": {
      "image/png": "[encoded data removed]",
      "text/plain": [
       "<Figure size 432x288 with 1 Axes>"
      ]
     },
     "metadata": {},
     "output_type": "display_data"
    }
   ],
   "source": [
    "plot_acf(df.min_temp, lags= 50)\n",
    "plt.show()"
   ]
  },
  {
   "cell_type": "markdown",
   "metadata": {},
   "source": [
    "Partial Autocorrelation is similar to Autocorrelation, only with the correlations due shorter lags removed.\n",
    "\n",
    "The autocorrelation of a variable at time 't' and 't-1' is comprised of both the direct correlation and indirect correlations. These indirect correlations are a linear function of the correlation of the value of variable, with values at intervening time steps. It is these indirect correlations that the partial autocorrelation function seeks to remove. \n",
    "\n",
    "It is read in the same way as an ACP."
   ]
  },
  {
   "cell_type": "code",
   "execution_count": 107,
   "metadata": {},
   "outputs": [
    {
     "data": {
      "image/png": "[encoded data removed]",
      "text/plain": [
       "<Figure size 432x288 with 1 Axes>"
      ]
     },
     "metadata": {},
     "output_type": "display_data"
    }
   ],
   "source": [
    "plot_pacf(df.min_temp,lags=50)\n",
    "plt.show()"
   ]
  },
  {
   "cell_type": "markdown",
   "metadata": {},
   "source": [
    "These ACP and PACP plots are very useful to determine the parameters for ARIMA model which you will be studying in the coming tutorials."
   ]
  },
  {
   "cell_type": "markdown",
   "metadata": {},
   "source": [
    "###  Summary\n",
    "In this tutorial we learnt all about pre-processing and understanding a time series. Now we are ready to apply any machine learning model on our dataset.\n",
    "And as they say, well-started is half done. If you're well aware and comfortable with manipulating your dataset, your work is half done and applying ML algorithms will be nothing but fun!\n",
    "\n",
    "Stay tuned for more tutorials on time series!"
   ]
  },
  {
   "cell_type": "markdown",
   "metadata": {},
   "source": [
    "> This tutorial is intended to be a public resource. If you see any glaring inaccuracies or a missing critical topic, please feel free to point it out or submit a pull request to improve the tutorial. \n",
    "Also, we are always looking to improve the scope of this article. For any suggestions and feedback, mail us @ colearninglounge@gmail.com\n",
    "### Credits\n",
    "> This article is authored by: <li>Naveksha Sood : Follow her on <a href='https://www.linkedin.com/in/naveksha-sood-8b6824160/'>LinkedIn</a>, <a href='https://medium.com/@navekshasood'>Medium</a> and <a href='https://github.com/search?q=naveksha+sood'>GitHub</a>.</li>"
   ]
  },
  {
   "cell_type": "code",
   "execution_count": null,
   "metadata": {},
   "outputs": [],
   "source": []
  }
 ],
 "metadata": {
  "kernelspec": {
   "display_name": "Python 3",
   "language": "python",
   "name": "python3"
  },
  "language_info": {
   "codemirror_mode": {
    "name": "ipython",
    "version": 3
   },
   "file_extension": ".py",
   "mimetype": "text/x-python",
   "name": "python",
   "nbconvert_exporter": "python",
   "pygments_lexer": "ipython3",
   "version": "3.5.2"
  }
 },
 "nbformat": 4,
 "nbformat_minor": 2
}
