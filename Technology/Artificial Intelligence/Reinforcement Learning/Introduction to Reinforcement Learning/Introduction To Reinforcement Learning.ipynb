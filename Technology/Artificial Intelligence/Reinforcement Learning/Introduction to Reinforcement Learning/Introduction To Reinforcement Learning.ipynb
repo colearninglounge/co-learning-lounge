{
 "cells": [
  {
   "cell_type": "markdown",
   "metadata": {},
   "source": [
    "# Introduction to Reinforcement Learning"
   ]
  },
  {
   "cell_type": "markdown",
   "metadata": {},
   "source": [
    "Most of you have probably heard of AI learning to play games on their own, like the one shown below in the video. Algorithms behind this and other similar models are call Reinforcement Learning Algorithm. That's a new paradigm in the Machine Learning world and that's completely different from conventional Supervised and Unsupervised Algorithms. These algorithms are inspired by the way Humans and Animals learn. "
   ]
  },
  {
   "cell_type": "code",
   "execution_count": 59,
   "metadata": {
    "scrolled": false
   },
   "outputs": [
    {
     "data": {
      "image/jpeg": "[encoded data removed]",
      "text/html": [
       "\n",
       "        <iframe\n",
       "            width=\"900\"\n",
       "            height=\"500\"\n",
       "            src=\"https://www.youtube.com/embed/kopoLzvh5jY\"\n",
       "            frameborder=\"0\"\n",
       "            allowfullscreen\n",
       "        ></iframe>\n",
       "        "
      ],
      "text/plain": [
       "<IPython.lib.display.YouTubeVideo at 0x1e4ddb816d8>"
      ]
     },
     "execution_count": 59,
     "metadata": {},
     "output_type": "execute_result"
    }
   ],
   "source": [
    "from IPython.display import YouTubeVideo\n",
    "YouTubeVideo('kopoLzvh5jY', width=900, height=500)"
   ]
  },
  {
   "cell_type": "markdown",
   "metadata": {},
   "source": [
    "Post your doubt/feedback/discussion in our FB group unit [here](https://www.facebook.com/groups/colearninglounge/learning_content/?filter=471702823590059) in the appropriate section.\n",
    "\n",
    "***"
   ]
  },
  {
   "cell_type": "markdown",
   "metadata": {},
   "source": [
    "### Table of content:\n",
    "\n",
    "* Introduction\n",
    "* Reinforcement Learning Applications\n",
    "* Reinforcement Learning Analogy\n",
    "* Concepts and Terminology\n",
    "* Markov Desicion Process\n",
    "  * Components of MDP\n",
    "  * Markov Property\n",
    "* Bellman Equation\n",
    "* Introduction to OpenAI Gym Environments\n",
    "* Hands-on with Toy Environment\n",
    "  * Library Imports\n",
    "  * Introduction to Toy Environment\n",
    "  * Initial Exploration of the Environment\n",
    "* Type of Reinforcement Learning Algorithms\n",
    "* Introduction to Q-Learning\n",
    "  * Understanding Q-Value Update\n",
    "* Agent Training with Q-Learning\n",
    "* Policy Evaluation\n",
    "* Brief info about Deep Q-Learning\n",
    "* Summary\n",
    "* Credits"
   ]
  },
  {
   "cell_type": "markdown",
   "metadata": {},
   "source": [
    "# Reinforcement Learning Applications\n",
    "\n",
    "![Application Venn Dia.png](images/VennDia.png) \n",
    "\n",
    "<center> \"Reinforcement Learning venn diagram by David Silver\"</center>\n"
   ]
  },
  {
   "cell_type": "markdown",
   "metadata": {},
   "source": [
    "# Reinforcement Learning Analogy\n",
    "\n",
    "Think of the scenario of teaching your **pet** a new skill. The pet won't understand language humans speak, so we can't instruct a pet what to do. \n",
    "\n",
    "So, what do we do?. We can try to give different **signals** to our pet, and the pet tries to respond in many different ways. \n",
    "\n",
    "If the pet's response is the desired one, it gets rewarded with food. So, the next time the pet is exposed to similar signals, the pet executes a similar action in expectation of more food. \n",
    "\n",
    "That's like learning **\"what to do\"** from **_positive_** experiences. Similarly, pets will tend to learn **\"what not to do\"** when faced with **_negative_** experiences.\n",
    "\n",
    "That's the intuition behind most of the reinforcement learning algorithms.\n",
    "\n",
    "#### Analogy with Reinforcement Learning Concepts\n",
    "\n",
    "* Your pet is an \"agent\" that is exposed to the environment. \n",
    "* The environment could be your house including you.\n",
    "* The situations they encounter are analogous to a state. \n",
    "  An example of a state could be your pet standing and you give a visual or audio signal like speaking specific word in a particular tone\n",
    "* Our agent react by performing an action to transition from one \"state\" to another \"state,\" \n",
    "  Your pet tries come towards you, for example.\n",
    "* After the transition, it may receive a reward or penalty in return.\n",
    "* The policy is the strategy of choosing an action given a state in expectation of better outcomes.\n",
    "  Like you pet learning to perform cetain action given that signal in this case."
   ]
  },
  {
   "cell_type": "markdown",
   "metadata": {},
   "source": [
    "# Reinforcement Concepts and Terminologies\n",
    "Some important terms related to reinforcement learning are (These terms are taken from Steeve Huang's post on Introduction to Various Reinforcement Learning Algorithms. Part I)-\n",
    "\n",
    "![Agent_Environment_Interface](images/Agent_Environment_Interface.png)\n",
    "\n",
    "<center> \"Agent Environment Interface</center>\n",
    "<center> Source: Reinforcement Learning: An Introduction (Sutton, R., Barto A.). </center>\n",
    "\n",
    "#### Environment: \n",
    "Physical environment in which the agent operates. This is the main premise of Reinforcement Learning where agent directly interacts with the Environment and gain rewards/penalties. \n",
    "\n",
    "#### Agent: \n",
    "A hypothetical entity which performs actions in an environment to gain some reward/penalty. Agent learns to perform desired action in based on it's past experience with the environment. Reinforcement Learning algorithms actually powers this learning.\n",
    "\n",
    "#### Action (a): \n",
    "All the possible actions that the agent can perform in a given environment.\n",
    "\n",
    "#### State (s): \n",
    "Representation of the environment at a given timestep t. As agent performs different action on environment, the state of environment changes and agent will take a different action based on new state.\n",
    "\n",
    "#### Reward (R): \n",
    "Reward is response of the environment for the action agent has performed. A reward can be -ve as well, which can be considered penalty. Reward can be immediate or can be delayed as well, based on the environment.\n",
    "\n",
    "#### Policy (π): \n",
    "The strategy that the agent employs to determine next action based on the current state. Agent actually tries to learn the optimal policy over time to receive best possible cummulative reward.\n",
    "\n",
    "#### Value (V): \n",
    "Expected long-term return with discount, as opposed to the short-term. The future reward that an agent would receive by being in a particular state.\n",
    "Vπ(s) is defined as the expected long-term return of the current state “s” under policy π.\n",
    "\n",
    "#### Q-value or action-value (Q): \n",
    "Q-value is similar to Value, except that it takes an extra parameter, the current action a. Qπ(s, a) refers to the long-term return of the current state s, taking action a under policy π."
   ]
  },
  {
   "cell_type": "markdown",
   "metadata": {},
   "source": [
    "***"
   ]
  },
  {
   "cell_type": "markdown",
   "metadata": {},
   "source": [
    "## Markov Decision Process\n",
    "\n",
    "A **_Markov decision process (MDP)_** is a discrete time stochastic control process. It provides a **mathematical framework** for modeling **decision making** in situations where outcomes are partly random and partly under the control of a decision maker.\n",
    "\n",
    "### Components of MDP\n",
    "\n",
    "A Markov decision process is a 4-tuple $(S,A,P_{a},R_{a})$, where\n",
    "\n",
    "* $S$ is a finite set of states,\n",
    "* Initial State: $s_{0}$\n",
    "* $A$ is a finite set of actions (alternatively, $A_{s}$ is the finite set of actions available from state $s$),\n",
    "* $P_{a}(s,s')=Pr(s_{t+1}=s'\\mid s_{t}=s,a_{t}=a)$ is the probability that action $a$ in state $s$ at time $t$ will lead to state $s'$ at time $t+1$,\n",
    "    This is also known as **\"transition model\"** in some literature\n",
    "* $R_{a}(s,s')$ is the immediate reward (or expected immediate reward) received after transitioning from state $s$ to state $s'$, due to action $a$\n",
    "\n",
    "### Markov Property\n",
    "\n",
    "> <span style=\"font-family:Sans-serif; font-size:2em;\">“ The future is independent of the past given the present.” </span>\n",
    "\n",
    "In mathematical terms, a state St has the **Markov property**, _if and only if_;  \n",
    "\n",
    "\\begin{align}\n",
    "P[St+1 | St] = P[St+1 | S1, ….. , St],\n",
    "\\end{align}\n",
    "\n",
    "the state captures all relevant information from history."
   ]
  },
  {
   "cell_type": "markdown",
   "metadata": {},
   "source": [
    "---"
   ]
  },
  {
   "cell_type": "markdown",
   "metadata": {},
   "source": [
    "### Bellman Equation\n",
    "\n",
    "Before getting to Bellman Equation we need to understand a Utility/Value of a state\n",
    "\n",
    "But first let's understand value of a state sequence\n",
    "\n",
    "$$\n",
    "V(h) = R(s_{0}) + \\gamma R(s_{1}) + \\gamma^{2} R(s_{2}) + ... + \\gamma^{n} R(s_{n})\n",
    "$$\n",
    "\n",
    "Here we introduce a new term $\\gamma$, which is called **Discount Factor**. Where $\\gamma \\in [0,1]$\n",
    "\n",
    "> Summarized\n",
    "\n",
    "$$\n",
    "V(s) = \\sum_{t=0}^{\\infty}\\gamma^{t}R(s_{t})\n",
    "$$\n",
    "\n",
    "One key point to note here is that this value of a state is with respect to a given policy. So, now that we understand value of a state, how can agent select the best action to be taken to in a givent state. That can be done throug something called **Maximum Expected Value** principle, which essentially mean that agent should take action that maximises its expected value.\n",
    "We are a step closer to the Bellman equation. So now we need add action $a$ also to the mix. Going back to components of MDP, we can find the probablity of the action $a$ in state $s$ will lead to state $s'$.\n",
    "\n",
    "Adding all these to gether we get our final Bellman Equation\n",
    "\n",
    "$$\n",
    "V(s) = R(s) + \\gamma\\max_{a}\\sum_{s'}P_{a}(s,s')V(s')\n",
    "$$\n",
    "\n",
    "\n",
    "Let’s try to dissect this equation. **First**, the term $R(s)$ is something we have to add for sure in the equation. We are in state $s$ and we know the reward given for that state, the value function must take it into account. **Second**, notice that the equation is using the probability model (transition model) $P$ which is multiplied times the value of the next state $s′$. If you think about that it makes sense, a state which has a low probability to happen will have a lowest weight in the summation."
   ]
  },
  {
   "cell_type": "markdown",
   "metadata": {},
   "source": [
    "## OpenAI Gym Environments\n",
    "\n",
    "> Gym is a toolkit for developing and comparing reinforcement learning algorithms. [Open AI Gym](https://gym.openai.com/)\n",
    "\n",
    "Gym provides variety of Environments to explore, starting with simple text based environments to the interesting world of Atari Games.\n",
    "\n",
    "## Types of Environments\n",
    "\n",
    "![Types of Environments](images/types_of_envs_s.png)\n",
    "\n",
    "\n",
    "## Introduction to a Toy Environment\n",
    "\n",
    "![Grid World](images/reinforcement_learning_simple_world.png)\n",
    "<center> Source : Dissecting Reinforcement Learning (Massimiliano Patacchiola) </center>\n",
    "\n",
    "\n",
    "An Environment should contain following components for agent to interact with it.\n",
    "\n",
    "* **Observation Space** :  This is nothing but list of states for an environment. In Grid world example we have 4x3 grid so we have 12 distinct states.\n",
    "\n",
    "* **Action Space** : List of possible action in an Environment is call Action Space. Agent will try learn best action out of this Action space to be taken in a given State\n",
    "\n",
    "* **step(action) method** : Agent will call this method to interact with the Environment at every timestep. The function should return following values \n",
    "> Observation, Reward, done, info\n",
    "\n",
    "    Here \n",
    "\n",
    "  * Observation : next state $s'$\n",
    "  * Reward : Immediate reward that agent gets for performing an action and moving to a particular state $s'$\n",
    "  * done : boolean value to indicate if Terminal state is reached\n",
    "  * info : debug information\n",
    "  \n",
    "* **reset() method** : When episode is over environment is reset back to the initial state to start new episode\n",
    "* **render() method (optional)** : to define how the environment should be rendered"
   ]
  },
  {
   "cell_type": "markdown",
   "metadata": {},
   "source": [
    "### Hands - On with Toy Environment"
   ]
  },
  {
   "cell_type": "code",
   "execution_count": null,
   "metadata": {},
   "outputs": [],
   "source": [
    "# Required Libaries\n",
    "\n",
    "!pip install gym\n",
    "!pip install numpy\n",
    "!pip install matplotlib\n",
    "!pip install pandas"
   ]
  },
  {
   "cell_type": "code",
   "execution_count": 22,
   "metadata": {},
   "outputs": [],
   "source": [
    "import matplotlib\n",
    "import numpy as np\n",
    "import pandas as pd\n",
    "from collections import namedtuple\n",
    "from matplotlib import pyplot as plt\n",
    "from mpl_toolkits.mplot3d import Axes3D\n",
    "import numpy as np\n",
    "from collections import namedtuple\n",
    "import itertools\n",
    "import random\n",
    "from IPython.display import clear_output"
   ]
  },
  {
   "cell_type": "code",
   "execution_count": 2,
   "metadata": {},
   "outputs": [],
   "source": [
    "#!/usr/bin/env python\n",
    "\n",
    "#MIT License\n",
    "#Copyright (c) 2017 Massimiliano Patacchiola\n",
    "#\n",
    "#Permission is hereby granted, free of charge, to any person obtaining a copy\n",
    "#of this software and associated documentation files (the \"Software\"), to deal\n",
    "#in the Software without restriction, including without limitation the rights\n",
    "#to use, copy, modify, merge, publish, distribute, sublicense, and/or sell\n",
    "#copies of the Software, and to permit persons to whom the Software is\n",
    "#furnished to do so, subject to the following conditions:\n",
    "#\n",
    "#The above copyright notice and this permission notice shall be included in all\n",
    "#copies or substantial portions of the Software.\n",
    "#\n",
    "#THE SOFTWARE IS PROVIDED \"AS IS\", WITHOUT WARRANTY OF ANY KIND, EXPRESS OR\n",
    "#IMPLIED, INCLUDING BUT NOT LIMITED TO THE WARRANTIES OF MERCHANTABILITY,\n",
    "#FITNESS FOR A PARTICULAR PURPOSE AND NONINFRINGEMENT. IN NO EVENT SHALL THE\n",
    "#AUTHORS OR COPYRIGHT HOLDERS BE LIABLE FOR ANY CLAIM, DAMAGES OR OTHER\n",
    "#LIABILITY, WHETHER IN AN ACTION OF CONTRACT, TORT OR OTHERWISE, ARISING FROM,\n",
    "#OUT OF OR IN CONNECTION WITH THE SOFTWARE OR THE USE OR OTHER DEALINGS IN THE\n",
    "#SOFTWARE.\n",
    "\n",
    "#Class for creating a gridworld of arbitrary size and with arbitrary obstacles.\n",
    "#Each state of the gridworld should have a reward. The transition matrix is defined\n",
    "#as the probability of executing an action given a command to the robot.\n",
    "\n",
    "import numpy as np\n",
    "\n",
    "class GridWorld:\n",
    "\n",
    "    def __init__(self, tot_col, tot_row):\n",
    "        self.action_space_size = 4\n",
    "        self.world_row = tot_row\n",
    "        self.world_col = tot_col\n",
    "        #The world is a matrix of size row x col x 2\n",
    "        #The first layer contains the obstacles\n",
    "        #The second layer contains the rewards\n",
    "        self.transition_matrix = np.ones((self.action_space_size, self.action_space_size))/ self.action_space_size\n",
    "        self.reward_matrix = np.zeros((tot_row, tot_col))\n",
    "        self.state_matrix = np.zeros((tot_row, tot_col))\n",
    "        self.position = [np.random.randint(tot_row), np.random.randint(tot_col)]     \n",
    "\n",
    "    def setTransitionMatrix(self, transition_matrix):\n",
    "        '''Set the Transition matrix.\n",
    "\n",
    "        The transition matrix here is intended as a matrix which has a line\n",
    "        for each action and the element of the row are the probabilities to\n",
    "        executes each action when a command is given. For example:\n",
    "        [[0.55, 0.25, 0.10, 0.10]\n",
    "         [0.25, 0.25, 0.25, 0.25]\n",
    "         [0.30, 0.20, 0.40, 0.10]\n",
    "         [0.10, 0.20, 0.10, 0.60]]\n",
    "\n",
    "        This matrix defines the transition rules for all the 4 possible actions.\n",
    "        The first row corresponds to the probabilities of executing each one of\n",
    "        the 4 actions when the policy orders to the robot to go UP. In this case\n",
    "        the transition model says that with a probability of 0.55 the robot will\n",
    "        go UP, with a probaiblity of 0.25 RIGHT, 0.10 DOWN and 0.10 LEFT.\n",
    "        '''\n",
    "        if(transition_matrix.shape != self.transition_matrix.shape):\n",
    "            raise ValueError('The shape of the two matrices must be the same.') \n",
    "        self.transition_matrix = transition_matrix\n",
    "\n",
    "    def setRewardMatrix(self, reward_matrix):\n",
    "        '''Set the reward matrix.'''\n",
    "        if(reward_matrix.shape != self.reward_matrix.shape):\n",
    "            raise ValueError('The shape of the matrix does not match with the shape of the world.')\n",
    "        self.reward_matrix = reward_matrix\n",
    "\n",
    "    def setStateMatrix(self, state_matrix):\n",
    "        '''Set the obstacles in the world.\n",
    "\n",
    "        The input to the function is a matrix with the\n",
    "        same size of the world \n",
    "        -1 for states which are not walkable.\n",
    "        +1 for terminal states\n",
    "         0 for all the walkable states (non terminal)\n",
    "        The following matrix represents the 4x3 world\n",
    "        used in the series \"dissecting reinforcement learning\"\n",
    "        [[0,  0,  0, +1]\n",
    "         [0, -1,  0, +1]\n",
    "         [0,  0,  0,  0]]\n",
    "        '''\n",
    "        if(state_matrix.shape != self.state_matrix.shape):\n",
    "            raise ValueError('The shape of the matrix does not match with the shape of the world.')\n",
    "        self.state_matrix = state_matrix\n",
    "\n",
    "    def setPosition(self, index_row=None, index_col=None):\n",
    "        ''' Set the position of the robot in a specific state.'''\n",
    "        if(index_row is None or index_col is None): self.position = [np.random.randint(tot_row), np.random.randint(tot_col)]\n",
    "        else: self.position = [index_row, index_col]\n",
    "\n",
    "    def render(self):\n",
    "        ''' Print the current world in the terminal.\n",
    "\n",
    "        O represents the robot position\n",
    "        - respresent empty states.\n",
    "        # represents obstacles\n",
    "        * represents terminal states\n",
    "        '''\n",
    "        graph = \"\"\n",
    "        for row in range(self.world_row):\n",
    "            row_string = \"\"\n",
    "            for col in range(self.world_col):\n",
    "                if(self.position == [row, col]): row_string += u\" \\u25CB \" # u\" \\u25CC \"\n",
    "                else:\n",
    "                    if(self.state_matrix[row, col] == 0): row_string += ' - '\n",
    "                    elif(self.state_matrix[row, col] == -1): row_string += ' # '\n",
    "                    elif(self.state_matrix[row, col] == +1): row_string += ' * '\n",
    "            row_string += '\\n'\n",
    "            graph += row_string \n",
    "        print(graph)            \n",
    "\n",
    "    def reset(self, exploring_starts=False):\n",
    "        ''' Set the position of the robot in the bottom left corner.\n",
    "\n",
    "        It returns the first observation\n",
    "        '''\n",
    "        if exploring_starts:\n",
    "            while(True):\n",
    "                row = np.random.randint(0, self.world_row)\n",
    "                col = np.random.randint(0, self.world_col)\n",
    "                if(self.state_matrix[row, col] == 0): break\n",
    "            self.position = [row, col]\n",
    "        else:\n",
    "            self.position = [self.world_row-1, 0]\n",
    "        #reward = self.reward_matrix[self.position[0], self.position[1]]\n",
    "        return self.position\n",
    "\n",
    "    def step(self, action):\n",
    "        ''' One step in the world.\n",
    "\n",
    "        [observation, reward, done = env.step(action)]\n",
    "        The robot moves one step in the world based on the action given.\n",
    "        The action can be 0=UP, 1=RIGHT, 2=DOWN, 3=LEFT\n",
    "        @return observation the position of the robot after the step\n",
    "        @return reward the reward associated with the next state\n",
    "        @return done True if the state is terminal  \n",
    "        '''\n",
    "        if(action >= self.action_space_size): \n",
    "            print(action)\n",
    "            raise ValueError('The action is not included in the action space.')\n",
    "\n",
    "        #Based on the current action and the probability derived\n",
    "        #from the trasition model it chooses a new actio to perform\n",
    "        #action = np.random.choice(4, 1, p=self.transition_matrix[int(action),:])\n",
    "\n",
    "        #Generating a new position based on the current position and action\n",
    "        if(action == 0): new_position = [self.position[0]-1, self.position[1]]   #UP\n",
    "        elif(action == 1): new_position = [self.position[0], self.position[1]+1] #RIGHT\n",
    "        elif(action == 2): new_position = [self.position[0]+1, self.position[1]] #DOWN\n",
    "        elif(action == 3): new_position = [self.position[0], self.position[1]-1] #LEFT\n",
    "        else: raise ValueError('The action is not included in the action space.')\n",
    "\n",
    "        #Check if the new position is a valid position\n",
    "        #print(self.state_matrix)\n",
    "        if (new_position[0]>=0 and new_position[0]<self.world_row):\n",
    "            if(new_position[1]>=0 and new_position[1]<self.world_col):\n",
    "                if(self.state_matrix[new_position[0], new_position[1]] != -1):\n",
    "                    self.position = new_position\n",
    "\n",
    "        reward = self.reward_matrix[self.position[0], self.position[1]]\n",
    "        #Done is True if the state is a terminal state\n",
    "        done = bool(self.state_matrix[self.position[0], self.position[1]])\n",
    "        return self.position, reward, done\n"
   ]
  },
  {
   "cell_type": "code",
   "execution_count": 10,
   "metadata": {},
   "outputs": [],
   "source": [
    "env = GridWorld(tot_row=3, tot_col=4)"
   ]
  },
  {
   "cell_type": "code",
   "execution_count": 11,
   "metadata": {},
   "outputs": [
    {
     "name": "stdout",
     "output_type": "stream",
     "text": [
      " -  -  -  - \n",
      " -  -  -  - \n",
      " ○  -  -  - \n",
      "\n"
     ]
    }
   ],
   "source": [
    "env.reset()\n",
    "env.render()"
   ]
  },
  {
   "cell_type": "code",
   "execution_count": 12,
   "metadata": {},
   "outputs": [
    {
     "name": "stdout",
     "output_type": "stream",
     "text": [
      " -  -  -  * \n",
      " -  #  -  * \n",
      " ○  -  -  - \n",
      "\n"
     ]
    }
   ],
   "source": [
    "state_Matrix = np.array([[0,  0,  0, +1], [0, -1,  0, +1], [0,  0,  0,  0]])\n",
    "env.setStateMatrix(state_Matrix)\n",
    "env.render()"
   ]
  },
  {
   "cell_type": "code",
   "execution_count": 13,
   "metadata": {},
   "outputs": [
    {
     "data": {
      "text/plain": [
       "array([[0., 0., 0., 0.],\n",
       "       [0., 0., 0., 0.],\n",
       "       [0., 0., 0., 0.]])"
      ]
     },
     "execution_count": 13,
     "metadata": {},
     "output_type": "execute_result"
    }
   ],
   "source": [
    "env.reward_matrix"
   ]
  },
  {
   "cell_type": "code",
   "execution_count": 14,
   "metadata": {},
   "outputs": [
    {
     "data": {
      "text/plain": [
       "array([[ 0,  0,  0,  1],\n",
       "       [ 0,  0,  0, -1],\n",
       "       [ 0,  0,  0,  0]])"
      ]
     },
     "execution_count": 14,
     "metadata": {},
     "output_type": "execute_result"
    }
   ],
   "source": [
    "r = 0\n",
    "reward_matrix = np.array([[r,  r,  r, +1], [r, r,  r, -1], [r,  r,  r,  r]])\n",
    "env.setRewardMatrix(reward_matrix)\n",
    "env.reward_matrix"
   ]
  },
  {
   "cell_type": "code",
   "execution_count": 8,
   "metadata": {},
   "outputs": [],
   "source": [
    "a = 0.6\n",
    "s_a = 0.2\n",
    "env.setTransitionMatrix(np.array([[a,  s_a,  0, s_a], [s_a, a,  s_a, 0], [0,  s_a,  a,  s_a], [s_a,  0,  s_a,  a]]))"
   ]
  },
  {
   "cell_type": "markdown",
   "metadata": {},
   "source": [
    "## Type of Reinforcement Learning\n",
    "\n",
    "![Type of Reinforcement Learning Algorithms](images/rl_algorithms_9_15.svg)\n",
    "<center> Source : \"Reinforcement Learning taxonomy as defined by OpenAI\" </center>"
   ]
  },
  {
   "cell_type": "markdown",
   "metadata": {},
   "source": [
    "## Q - Learning\n",
    "\n",
    "**What is q-learning?**\n",
    "\n",
    "Q-Learning is an value optimization off policy reinforcement learning algorithm. As explained in RL terminologies, the Q-Value is the value associated with state-action pair $(s, a)$.  \n",
    "So, here the idea is to learn Q-value for all state-action pairs and select the best action for a given state which maximizes the cumulative reward.  \n",
    "It’s considered off-policy because the q-learning function learns from actions that are outside the current policy, like taking random actions, and therefore a policy isn’t needed.\n",
    "\n",
    "**Q-Learning Pseudo Code**\n",
    "\n",
    "![Q-Learning Pseudo Code](https://martin-thoma.com/images/2016/07/q-learning.png)  \n",
    "<center> Source: \"Q-learning Pseudo Code\" (https://martin-thoma.com/images/2016/07/q-learning.png) </center>\n"
   ]
  },
  {
   "cell_type": "markdown",
   "metadata": {},
   "source": [
    "#### Create a q-table\n",
    "When q-learning is performed we create what’s called a q-table or matrix that follows the shape of $[state, action]$\n",
    "We initialize our values to zero. We then update and store our q-values after an episode. \n",
    "This q-table becomes a reference table for our agent to select the best action based on the q-value."
   ]
  },
  {
   "cell_type": "code",
   "execution_count": 15,
   "metadata": {},
   "outputs": [],
   "source": [
    "import random\n",
    "import numpy as np\n",
    "\n",
    "class QAgent:\n",
    "    def __init__(self, tot_row, tot_col, tot_action, alpha, gamma, epsilon):\n",
    "        self.q_table = np.zeros((tot_row, tot_col, tot_action), dtype='float')\n",
    "        self.alpha = alpha\n",
    "        self.gamma = gamma\n",
    "        self.epsilon = epsilon\n",
    "        \n",
    "    def get_next_action(self, state, evaluate=False):\n",
    "        if (not evaluate) and (random.uniform(0, 1) < self.epsilon):\n",
    "            action = np.random.randint(4) # Explore action space\n",
    "        else:\n",
    "            action = np.argmax(self.q_table[state[0],state[1]]) # Exploit learned values\n",
    "        return action\n",
    "    \n",
    "    def get_next_action_random(self, state):\n",
    "        return np.random.randint(4) # Random Action\n",
    "        \n",
    "    def update_q_table(self, state, action, new_state, reward):\n",
    "        old_value = self.q_table[state[0], state[1], action]\n",
    "        next_max = np.max(self.q_table[next_state[0], next_state[1]])\n",
    "        \n",
    "        new_value = (1 - self.alpha) * old_value + self.alpha * (reward + self.gamma * next_max)\n",
    "        self.q_table[state[0], state[1], action] = new_value\n",
    "        \n",
    "    def print_policy(self, env):\n",
    "        \"\"\"Printing utility.\n",
    "\n",
    "        Print the policy actions using symbols:\n",
    "        ^, v, <, > up, down, left, right\n",
    "        * terminal states\n",
    "        # obstacles\n",
    "        \"\"\"\n",
    "        shape = env.state_matrix.shape\n",
    "        counter = 0\n",
    "        policy_string = \"\"\n",
    "        p = self.q_table\n",
    "        for row in range(shape[0]):\n",
    "            for col in range(shape[1]):\n",
    "                if(env.state_matrix[row, col] == 0):    \n",
    "                    if(np.argmax(p[row][col]) == 0): policy_string += \" ^  \"\n",
    "                    elif(np.argmax(p[row][col]) == 1): policy_string += \" >  \"\n",
    "                    elif(np.argmax(p[row][col]) == 2): policy_string += \" v  \"           \n",
    "                    elif(np.argmax(p[row][col]) == 3): policy_string += \" <  \"\n",
    "                elif(env.state_matrix[row, col] == -1): policy_string += ' #  '\n",
    "                elif(env.state_matrix[row, col] == +1): policy_string += ' *  '\n",
    "                counter += 1\n",
    "            policy_string += '\\n'\n",
    "        print(policy_string)"
   ]
  },
  {
   "cell_type": "code",
   "execution_count": 16,
   "metadata": {},
   "outputs": [],
   "source": [
    "# Hyperparameters\n",
    "alpha = 0.1\n",
    "gamma = 0.6\n",
    "epsilon = 0.1\n",
    "state_shape = env.state_matrix.shape\n",
    "tot_action = env.action_space_size\n",
    "agent = QAgent(tot_row = state_shape[0], \n",
    "               tot_col = state_shape[1], \n",
    "               tot_action = tot_action,\n",
    "               alpha = alpha,\n",
    "               gamma = gamma,\n",
    "               epsilon = epsilon)\n",
    "\n",
    "agent.q_table.shape\n",
    "\n",
    "EpisodeStats = namedtuple(\"Stats\",[\"episode_lengths\", \"episode_rewards\"])"
   ]
  },
  {
   "cell_type": "code",
   "execution_count": 17,
   "metadata": {},
   "outputs": [
    {
     "name": "stdout",
     "output_type": "stream",
     "text": [
      " ^   ^   ^   *  \n",
      " ^   #   ^   *  \n",
      " ^   ^   ^   ^  \n",
      "\n"
     ]
    }
   ],
   "source": [
    "agent.print_policy(env)"
   ]
  },
  {
   "cell_type": "code",
   "execution_count": 18,
   "metadata": {
    "scrolled": true
   },
   "outputs": [
    {
     "name": "stdout",
     "output_type": "stream",
     "text": [
      "Episode: 20000\n",
      "Training finished.\n",
      "\n",
      "Wall time: 12.9 s\n"
     ]
    }
   ],
   "source": [
    "%%time\n",
    "\n",
    "\"\"\"Training the agent\"\"\"\n",
    "\n",
    "render = False\n",
    "\n",
    "# For plotting metrics\n",
    "num_episodes = 20001\n",
    "stats = EpisodeStats(\n",
    "        episode_lengths=np.zeros(num_episodes),\n",
    "        episode_rewards=np.zeros(num_episodes))\n",
    "\n",
    "for i_episode in range(num_episodes):\n",
    "    state = env.reset()\n",
    "    \n",
    "    epochs, penalties, reward, = 0, 0, 0\n",
    "    done = False\n",
    "    \n",
    "    for t in itertools.count():\n",
    "        \n",
    "        if render:\n",
    "            clear_output(wait=True)\n",
    "            env.render()\n",
    "            print(f\"Episode: {i_episode}\")\n",
    "        \n",
    "        action = agent.get_next_action(state, False)\n",
    "        \n",
    "        next_state, reward, done = env.step(action) \n",
    "        \n",
    "        agent.update_q_table(state, action, next_state, reward)\n",
    "        \n",
    "        stats.episode_rewards[i_episode] += reward\n",
    "        stats.episode_lengths[i_episode] = t\n",
    "\n",
    "        state = next_state\n",
    "        if done: break\n",
    "            \n",
    "    if not render and i_episode % 100 == 0:\n",
    "        clear_output(wait=True)\n",
    "        print(f\"Episode: {i_episode}\")\n",
    "        \n",
    "print(\"Training finished.\\n\")"
   ]
  },
  {
   "cell_type": "code",
   "execution_count": 19,
   "metadata": {},
   "outputs": [
    {
     "name": "stdout",
     "output_type": "stream",
     "text": [
      " >   >   >   *  \n",
      " ^   #   ^   *  \n",
      " ^   >   ^   <  \n",
      "\n"
     ]
    }
   ],
   "source": [
    "agent.print_policy(env)"
   ]
  },
  {
   "cell_type": "code",
   "execution_count": 20,
   "metadata": {},
   "outputs": [],
   "source": [
    "def plot_episode_lenth(stats, smoothing_window=10000):\n",
    "    # Plot the episode length over time\n",
    "    fig1 = plt.figure(figsize=(10,5))\n",
    "    episode_lengths_smoothed = pd.Series(stats.episode_lengths).rolling(smoothing_window, min_periods=smoothing_window).mean()\n",
    "    plt.plot(episode_lengths_smoothed)\n",
    "    plt.xlabel(\"Episode\")\n",
    "    plt.ylabel(\"Episode Length\")\n",
    "    plt.title(\"Episode Length over Time\")\n",
    "    plt.show(fig1)\n",
    "    \n",
    "def plot_episode_rewards(stats, smoothing_window=10000):\n",
    "    # Plot the episode reward over time\n",
    "    fig2 = plt.figure(figsize=(10,5))\n",
    "    rewards_smoothed = pd.Series(stats.episode_rewards).rolling(smoothing_window, min_periods=smoothing_window).mean()\n",
    "    plt.plot(rewards_smoothed)\n",
    "    plt.xlabel(\"Episode\")\n",
    "    plt.ylabel(\"Episode Reward (Smoothed)\")\n",
    "    plt.title(\"Episode Reward over Time (Smoothed over window size {})\".format(smoothing_window))\n",
    "    plt.show(fig2)"
   ]
  },
  {
   "cell_type": "code",
   "execution_count": 24,
   "metadata": {},
   "outputs": [
    {
     "data": {
      "image/png": "[encoded data removed]",
      "text/plain": [
       "<Figure size 720x360 with 1 Axes>"
      ]
     },
     "metadata": {
      "needs_background": "light"
     },
     "output_type": "display_data"
    },
    {
     "data": {
      "image/png": "[encoded data removed]",
      "text/plain": [
       "<Figure size 720x360 with 1 Axes>"
      ]
     },
     "metadata": {
      "needs_background": "light"
     },
     "output_type": "display_data"
    }
   ],
   "source": [
    "plot_episode_lenth(stats, 10000)\n",
    "plot_episode_rewards(stats,10000)"
   ]
  },
  {
   "cell_type": "code",
   "execution_count": 25,
   "metadata": {},
   "outputs": [],
   "source": [
    "\"\"\"Evaluate agent's performance after Q-learning\"\"\"\n",
    "\n",
    "total_epochs = 0\n",
    "episodes = 100\n",
    "random = False\n",
    "\n",
    "eval_stats = EpisodeStats(\n",
    "        episode_lengths=np.zeros(episodes),\n",
    "        episode_rewards=np.zeros(episodes))\n",
    "\n",
    "for i_episode in range(episodes):\n",
    "    state = env.reset()\n",
    "    episode_lenth, rewards = 0, 0\n",
    "    \n",
    "    done = False\n",
    "    \n",
    "    while not done:\n",
    "        if random:\n",
    "            action = agent.get_next_action_random(state)\n",
    "        else:\n",
    "            action = agent.get_next_action(state, evaluate = True)\n",
    "        \n",
    "        state, reward, done = env.step(action)\n",
    "        \n",
    "        rewards += reward\n",
    "        episode_lenth += 1\n",
    "\n",
    "    eval_stats.episode_rewards[i_episode] = rewards\n",
    "    eval_stats.episode_lengths[i_episode] = episode_lenth"
   ]
  },
  {
   "cell_type": "code",
   "execution_count": 27,
   "metadata": {},
   "outputs": [
    {
     "data": {
      "image/png": "[encoded data removed]",
      "text/plain": [
       "<Figure size 720x360 with 1 Axes>"
      ]
     },
     "metadata": {
      "needs_background": "light"
     },
     "output_type": "display_data"
    },
    {
     "data": {
      "image/png": "[encoded data removed]",
      "text/plain": [
       "<Figure size 720x360 with 1 Axes>"
      ]
     },
     "metadata": {
      "needs_background": "light"
     },
     "output_type": "display_data"
    }
   ],
   "source": [
    "plot_episode_lenth(eval_stats, 1)\n",
    "plot_episode_rewards(eval_stats, 1)"
   ]
  },
  {
   "cell_type": "markdown",
   "metadata": {},
   "source": [
    "### Resources\n",
    "\n",
    "1. [Reinforcement Learning: An Introduction](http://www.incompleteideas.net/book/RLbook2018trimmed.pdf) (Open sourced book by Sutton, R., Barto A.)\n",
    "\n",
    "2. David Silver’s [lectures](https://www.davidsilver.uk/teaching/) on Reinforcement Learning\n",
    "\n",
    "3. [Open AI Gym Environments](https://gym.openai.com/)\n",
    "\n",
    "4. Interesting Read : [Dissecting Reinforcement Learning](https://mpatacchiola.github.io/blog/2016/12/09/dissecting-reinforcement-learning.html) by Massimiliano Patacchiola"
   ]
  },
  {
   "cell_type": "markdown",
   "metadata": {},
   "source": [
    "### Summary\n",
    "\n",
    "We have gone through Introduction to Reinforcement Learning and related concepts. By now you will be able to undertand how you can use Q-Learning to solve any environment. You can try solving other environments from OpenAI Gym to cement yourb Q-Learning Fundamentals."
   ]
  },
  {
   "cell_type": "markdown",
   "metadata": {},
   "source": [
    "### Future scope:\n",
    "\n",
    "* We can use Q-Function approximator like DNN to solve similar environments.\n",
    "* We can go deeped in understanding other policy based Algorithms."
   ]
  },
  {
   "cell_type": "markdown",
   "metadata": {},
   "source": [
    "> This tutorial is intended to be a public resource. As such, if you see any glaring inaccuracies or if a critical topic is missing, please feel free to point it out or (preferably) submit a pull request to improve the tutorial. Also, we are always looking to improve the scope of this article. For anything feel free to mail us @ colearninglounge@gmail.com"
   ]
  },
  {
   "cell_type": "markdown",
   "metadata": {},
   "source": [
    "> Author of this article is Jimish Bhayani. You can follow him on [LinkedIn](https://www.linkedin.com/in/jimishbhayani/)."
   ]
  }
 ],
 "metadata": {
  "kernelspec": {
   "display_name": "Python 3",
   "language": "python",
   "name": "python3"
  },
  "language_info": {
   "codemirror_mode": {
    "name": "ipython",
    "version": 3
   },
   "file_extension": ".py",
   "mimetype": "text/x-python",
   "name": "python",
   "nbconvert_exporter": "python",
   "pygments_lexer": "ipython3",
   "version": "3.6.6"
  }
 },
 "nbformat": 4,
 "nbformat_minor": 2
}
