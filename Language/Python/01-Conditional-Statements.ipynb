{
 "cells": [
  {
   "cell_type": "markdown",
   "metadata": {},
   "source": [
    "# Control Structures"
   ]
  },
  {
   "cell_type": "markdown",
   "metadata": {},
   "source": [
    ">A program needs to skip over some statements, execute a series of statements repeatitively, or choose between alternate sets of statements to execute.\n",
    "<br>\n",
    ">That is where **control structures** come in. A control structure directs the order of execution of statements in a program(referred to as the program's **control flow**)."
   ]
  },
  {
   "cell_type": "markdown",
   "metadata": {},
   "source": [
    "# Introduction to the if Statement"
   ]
  },
  {
   "cell_type": "markdown",
   "metadata": {},
   "source": [
    ">if statements are used where we want to execute some set of statements on the basis of some condition."
   ]
  },
  {
   "cell_type": "markdown",
   "metadata": {},
   "source": [
    "## Syntax :"
   ]
  },
  {
   "cell_type": "markdown",
   "metadata": {},
   "source": [
    "`if <condition>:\n",
    "    <statement/s>`"
   ]
  },
  {
   "cell_type": "markdown",
   "metadata": {},
   "source": [
    "- codition : evaluated in boolean context\n",
    "- statement : can be valid python statement, which must be intended"
   ]
  },
  {
   "cell_type": "markdown",
   "metadata": {},
   "source": [
    "### Example :"
   ]
  },
  {
   "cell_type": "code",
   "execution_count": 3,
   "metadata": {},
   "outputs": [
    {
     "name": "stdout",
     "output_type": "stream",
     "text": [
      "Yes\n",
      "Complete\n"
     ]
    }
   ],
   "source": [
    "x = 3\n",
    "y = 5\n",
    "if x < y:\n",
    "    print('Yes')\n",
    "print('Complete')"
   ]
  },
  {
   "cell_type": "markdown",
   "metadata": {},
   "source": [
    "---\n",
    "Here, x<y evaluated as true, so that it go inside the if block and printed 'yes' and then next statement executed"
   ]
  },
  {
   "cell_type": "code",
   "execution_count": 4,
   "metadata": {},
   "outputs": [
    {
     "name": "stdout",
     "output_type": "stream",
     "text": [
      "Complete\n"
     ]
    }
   ],
   "source": [
    "x = 3\n",
    "y = 5\n",
    "if x > y:\n",
    "    print('Yes')\n",
    "print('Complete')"
   ]
  },
  {
   "cell_type": "markdown",
   "metadata": {},
   "source": [
    "---\n",
    "But here, x<y evaluated as false, so that it didn't go inside if block and only Complete has been printed because it is outside the block"
   ]
  },
  {
   "cell_type": "markdown",
   "metadata": {},
   "source": [
    "Note : In the Python documentaion, a group of statements defined by indentation is referred to as a suite (also known as block).\n",
    "---"
   ]
  },
  {
   "cell_type": "markdown",
   "metadata": {},
   "source": [
    "## if - else Statement"
   ]
  },
  {
   "cell_type": "markdown",
   "metadata": {},
   "source": [
    "As we know how if statement works, now we learn what is else clause?<br>The statement/s of else block will execute only when if's expression evaluated as false"
   ]
  },
  {
   "cell_type": "markdown",
   "metadata": {},
   "source": [
    "### Syntax :"
   ]
  },
  {
   "cell_type": "markdown",
   "metadata": {},
   "source": [
    "`if <condition>:\n",
    "    <statement>\n",
    "else:\n",
    "    <statement>`"
   ]
  },
  {
   "cell_type": "markdown",
   "metadata": {},
   "source": [
    "### Example :"
   ]
  },
  {
   "cell_type": "code",
   "execution_count": 6,
   "metadata": {},
   "outputs": [
    {
     "name": "stdout",
     "output_type": "stream",
     "text": [
      "You can drive :)\n"
     ]
    }
   ],
   "source": [
    "age = 19\n",
    "if age > 18:\n",
    "    print('You can drive :)')\n",
    "else:\n",
    "    print('Sorry! You cannot drive :(')"
   ]
  },
  {
   "cell_type": "code",
   "execution_count": 7,
   "metadata": {},
   "outputs": [
    {
     "name": "stdout",
     "output_type": "stream",
     "text": [
      "Sorry! You cannot drive :(\n"
     ]
    }
   ],
   "source": [
    "age = 16\n",
    "if age > 18:\n",
    "    print('You can drive :)')\n",
    "else:\n",
    "    print('Sorry! You cannot drive :(')"
   ]
  },
  {
   "cell_type": "markdown",
   "metadata": {},
   "source": [
    "---"
   ]
  },
  {
   "cell_type": "markdown",
   "metadata": {},
   "source": [
    "## if - elif - else statement"
   ]
  },
  {
   "cell_type": "markdown",
   "metadata": {},
   "source": [
    ">elif clause is use for checking muliple expressions, elif means 'else if'. The statement/s of elif block executed only when if's expression evaluated as false and elif's expression as true."
   ]
  },
  {
   "cell_type": "markdown",
   "metadata": {},
   "source": [
    "### Syntax :"
   ]
  },
  {
   "cell_type": "markdown",
   "metadata": {},
   "source": [
    "`if <condition>:\n",
    "    <statement>\n",
    "elif <condition>:\n",
    "    <statement>\n",
    "else:\n",
    "    <statement>`"
   ]
  },
  {
   "cell_type": "markdown",
   "metadata": {},
   "source": [
    "### Example :"
   ]
  },
  {
   "cell_type": "code",
   "execution_count": 8,
   "metadata": {},
   "outputs": [
    {
     "name": "stdout",
     "output_type": "stream",
     "text": [
      "Passed with Grade-'B' \n"
     ]
    }
   ],
   "source": [
    "marks = 70\n",
    "if marks > 75:\n",
    "    print(\"Passed with Grade-'A' \")\n",
    "elif marks > 50:\n",
    "    print(\"Passed with Grade-'B' \")\n",
    "elif marks > 32:\n",
    "    print(\"Passed with Grade-'C' \")\n",
    "else:\n",
    "    print(\"Failed!\")"
   ]
  },
  {
   "cell_type": "code",
   "execution_count": 9,
   "metadata": {},
   "outputs": [
    {
     "name": "stdout",
     "output_type": "stream",
     "text": [
      "Passed with Grade-'C' \n"
     ]
    }
   ],
   "source": [
    "marks = 45\n",
    "if marks > 75:\n",
    "    print(\"Passed with Grade-'A' \")\n",
    "elif marks > 50:\n",
    "    print(\"Passed with Grade-'B' \")\n",
    "elif marks > 32:\n",
    "    print(\"Passed with Grade-'C' \")\n",
    "else:\n",
    "    print(\"Failed!\")"
   ]
  },
  {
   "cell_type": "markdown",
   "metadata": {},
   "source": [
    "---"
   ]
  },
  {
   "cell_type": "markdown",
   "metadata": {},
   "source": [
    "## Nested if and if-else"
   ]
  },
  {
   "cell_type": "markdown",
   "metadata": {},
   "source": [
    ">Nested if statements means as if statement inside another if statement. There may be a situation when you want to check for another condition after a condiion resolves to true, In such situation you can use the nested if contruct.<br>\n",
    "same things for nested if-else or nested if-elif-else construct.<br>\n",
    "Yes, we can put **if...else or if...elif...else** contruct inside anoher **if...else or if...elif...else** construct."
   ]
  },
  {
   "cell_type": "markdown",
   "metadata": {},
   "source": [
    "### Syntax :"
   ]
  },
  {
   "cell_type": "markdown",
   "metadata": {},
   "source": [
    "`if <condition-1>:\n",
    "    <statement/s>\n",
    "    if <condition-2>:\n",
    "        <statement/s>\n",
    "    elif <condition-3>:\n",
    "        <statement/s>\n",
    "    else:\n",
    "        <statement/s>\n",
    "else:\n",
    "    <statement/s>`"
   ]
  },
  {
   "cell_type": "markdown",
   "metadata": {},
   "source": [
    "### OR"
   ]
  },
  {
   "cell_type": "markdown",
   "metadata": {},
   "source": [
    "`if <condition-1>:\n",
    "    <statement/s>\n",
    "else:\n",
    "    <statement/s>\n",
    "    if <condition-2>:\n",
    "        <statement/s>\n",
    "    elif <condition-3>:\n",
    "        <statement/s>\n",
    "    else:\n",
    "        <statement/s>`"
   ]
  },
  {
   "cell_type": "markdown",
   "metadata": {},
   "source": [
    "### Example:"
   ]
  },
  {
   "cell_type": "code",
   "execution_count": 11,
   "metadata": {},
   "outputs": [
    {
     "name": "stdout",
     "output_type": "stream",
     "text": [
      "Logged-in\n"
     ]
    }
   ],
   "source": [
    "email = 'abc@email.com'\n",
    "pwd = 'abc@123'\n",
    "if email == 'abc@email.com':\n",
    "    if pwd == 'abc@123':\n",
    "        print('Logged-in')\n",
    "    else:\n",
    "        print('Incorrect password!')\n",
    "else:\n",
    "    print(email, 'is not registered!')"
   ]
  },
  {
   "cell_type": "code",
   "execution_count": 12,
   "metadata": {},
   "outputs": [
    {
     "name": "stdout",
     "output_type": "stream",
     "text": [
      "Incorrect password!\n"
     ]
    }
   ],
   "source": [
    "email = 'abc@email.com'\n",
    "pwd = 'abc.123'\n",
    "if email == 'abc@email.com':\n",
    "    if pwd == 'abc@123':\n",
    "        print('Logged-in')\n",
    "    else:\n",
    "        print('Incorrect password!')\n",
    "else:\n",
    "    print(email, 'is not registered!')"
   ]
  },
  {
   "cell_type": "code",
   "execution_count": null,
   "metadata": {},
   "outputs": [],
   "source": []
  }
 ],
 "metadata": {
  "kernelspec": {
   "display_name": "Python 3",
   "language": "python",
   "name": "python3"
  },
  "language_info": {
   "codemirror_mode": {
    "name": "ipython",
    "version": 3
   },
   "file_extension": ".py",
   "mimetype": "text/x-python",
   "name": "python",
   "nbconvert_exporter": "python",
   "pygments_lexer": "ipython3",
   "version": "3.7.6"
  }
 },
 "nbformat": 4,
 "nbformat_minor": 4
}
