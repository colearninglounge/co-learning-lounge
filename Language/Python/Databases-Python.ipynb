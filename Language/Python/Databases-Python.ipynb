{
 "cells": [
  {
   "cell_type": "markdown",
   "metadata": {},
   "source": [
    "# Databases"
   ]
  },
  {
   "cell_type": "markdown",
   "metadata": {},
   "source": [
    "##  1. Introduction"
   ]
  },
  {
   "cell_type": "markdown",
   "metadata": {},
   "source": [
    "**Databases** are meant to provide an easier way to *Store* and *Retrieve* data in a structured manner. Without databases the developer would need to constantly worry about how and where to store his next data fragment. This enables developers to focus more on the development process rather than focussing on data."
   ]
  },
  {
   "cell_type": "markdown",
   "metadata": {},
   "source": [
    "Following are the *types* of databases: \n",
    "1. Centralised database.\n",
    "2. Distributed database.\n",
    "3. Personal database.\n",
    "4. End-user database.\n",
    "5. Commercial database.\n",
    "6. NoSQL database.\n",
    "7. Operational database.\n",
    "8. Relational database.\n",
    "9. Cloud database.\n",
    "10. Object-oriented database.\n",
    "11. Graph database."
   ]
  },
  {
   "cell_type": "markdown",
   "metadata": {},
   "source": [
    "### **Common Misconceptions** related to databases:\n",
    "\n",
    "\n",
    "1. These database types are **not** to be confused with Open Source **Database management systems** like MySQL, PostgreSQL, Ingres, Apache Cassandra, etc. Database types merely indicate how and where your data has to be stored. These database types mentioned above are provided to you by the database management systems for use and easy integration with languages like Python, Javascript, etc.\n",
    "\n",
    "\n",
    "2. These database types differ in terms of the structure and the flow of your data.For eg- *Relational databases* use tables to store your data whereas *Graph databases* uses graph structures like nodes and edges to represent and store data.\n",
    "\n",
    "\n",
    "3. **SQL** or **S**tructured **Q**uery **L**anguage is a language which is used to create, maintain and retrieve the data from *Relational databases* like PostgreSQL and MySQL. Some people confuse SQL to be a database which is not true. However sometimes the term SQL database is used interchangibly for Relational database as SQL language is used to handle Relational databases.\n"
   ]
  },
  {
   "cell_type": "markdown",
   "metadata": {},
   "source": [
    "### SQL vs NoSQL Database (What does this actually mean?)\n",
    "SQL database here is referring to *Relational database* and not SQL being a database (which is  wrong). NoSQL or Non SQL is the term which refers to *non-Relational databases*.\n",
    "\n",
    "So in simple terms it means Relational database structure vs Non-Relational database structure. \n",
    "\n",
    "#### Difference between SQL and NoSQL database\n",
    "|SQL | NoSQL|\n",
    "|---|---|\n",
    "|These database types used Relational database management systems.| These databases use Non-relational or distributed database system|\n",
    "| Not well suited for hierarchical data storage. | Better suited for hierarchical data storage. |\n",
    "| Vertically scalable | Horizontally scalable |"
   ]
  },
  {
   "cell_type": "markdown",
   "metadata": {},
   "source": [
    "## 2. Connection\n",
    "Here we will see how to select a database and how to connect it with Python."
   ]
  },
  {
   "cell_type": "markdown",
   "metadata": {},
   "source": [
    "##### Steps for selecting a database\n",
    "\n",
    "STEP 1: Select the **Database type** from the 11 types mentioned above. The type of database that you should select depends on the data that you are going to supply the database. For eg: If you have highly hierarchical data then SQL databases are not the choice to go for.\n",
    "\n",
    "STEP 2: Search for **Database Management Systems** for your preferred Database type and language you are comfortable. Selecting a good DBMS will help in easy communication with your database."
   ]
  },
  {
   "cell_type": "markdown",
   "metadata": {},
   "source": [
    "#### What are the most popular DBMS options in Python?\n",
    "1. SQLite\n",
    "2. MySQL\n",
    "3. PostgreSQL\n",
    "4. MongoDB\n",
    "Feel free to search for other DBMS libraries according to your requirement.\n",
    "\n",
    "The most used Database Management Systems (also sometimes just referred to as databases) with Python are **PostgreSQL** and **MySQL**. Both of these are open source *Relational Database Management System*. "
   ]
  },
  {
   "cell_type": "markdown",
   "metadata": {},
   "source": [
    "#### How to use these DBMS with Python?\n",
    "Python has a variety of libraries for easy integration with databases. These libraries can act as your Database Management libraries and help in Create, Read, Update and Delete (CRUD) operations. We will see how to connect these with Python now:"
   ]
  },
  {
   "cell_type": "markdown",
   "metadata": {},
   "source": [
    "# SQLite\n",
    "SQLite is the easiest library to use with Python. It comes by default with Python and you *do not* need to install any extra SQL library for using this.\n",
    "\n",
    "### A) Creating a connection\n",
    "If a database exists already at the path, it connects to it.\n",
    "If a database does not exist at the location, it creates a new one and connects to it."
   ]
  },
  {
   "cell_type": "code",
   "execution_count": 1,
   "metadata": {},
   "outputs": [
    {
     "name": "stdout",
     "output_type": "stream",
     "text": [
      "Connection to SQLite DB successful\n"
     ]
    }
   ],
   "source": [
    "import sqlite3\n",
    "from sqlite3 import Error\n",
    "\n",
    "try:\n",
    "    connection = sqlite3.connect('test.db')\n",
    "    print(\"Connection to SQLite DB successful\")\n",
    "except Error as e:\n",
    "    print(f\"The error '{e}' occurred\")"
   ]
  },
  {
   "cell_type": "markdown",
   "metadata": {},
   "source": [
    "### B) Creating a Table\n",
    "A table is an empty structure where you can insert data using the insert operation. Data cannot be inserted into a table which has not been created yet"
   ]
  },
  {
   "cell_type": "code",
   "execution_count": 2,
   "metadata": {},
   "outputs": [
    {
     "name": "stdout",
     "output_type": "stream",
     "text": [
      "The error 'table CINEMA already exists' occurred\n"
     ]
    }
   ],
   "source": [
    "try:\n",
    "    connection.execute('''CREATE TABLE CINEMA\n",
    "         (ID INT PRIMARY KEY     NOT NULL,\n",
    "         NAME           TEXT    NOT NULL,\n",
    "         SEATNO            INT     NOT NULL,\n",
    "         PHONE        INT      NOT NULL);''')\n",
    "    print('Table created successfully')\n",
    "except Error as e:\n",
    "    print(f\"The error '{e}' occurred\")"
   ]
  },
  {
   "cell_type": "markdown",
   "metadata": {},
   "source": [
    "### C) Inserting Data\n",
    "Now we insert data inside the table we created\n",
    "\n",
    "**IMPORTANT**: Make sure if you are writing the string inside double quotes(\" \") then write the string VALUES in single quotes (' ') and vice versa"
   ]
  },
  {
   "cell_type": "code",
   "execution_count": 3,
   "metadata": {},
   "outputs": [
    {
     "name": "stdout",
     "output_type": "stream",
     "text": [
      "Insert successful\n"
     ]
    }
   ],
   "source": [
    "connection.execute(\"INSERT INTO CINEMA (ID,NAME,SEATNO,PHONE) \\\n",
    "                    VALUES(1, 'MIKE', 23, 99999)\");\n",
    "connection.execute(\"INSERT INTO CINEMA (ID,NAME,SEATNO,PHONE) \\\n",
    "                    VALUES(2, 'CHANDLER', 24, 999999)\");\n",
    "connection.commit()\n",
    "print(\"Insert successful\")"
   ]
  },
  {
   "cell_type": "markdown",
   "metadata": {},
   "source": [
    "### D) Fetching Data\n",
    "Here we access the data we just inserted in the table CINEMA"
   ]
  },
  {
   "cell_type": "code",
   "execution_count": 5,
   "metadata": {},
   "outputs": [
    {
     "name": "stdout",
     "output_type": "stream",
     "text": [
      "Displaying table entries...\n",
      "ID =  1\n",
      "NAME =  MIKE\n",
      "SEATNO =  23\n",
      "PHONE =  99999 \n",
      "\n",
      "ID =  2\n",
      "NAME =  CHANDLER\n",
      "SEATNO =  24\n",
      "PHONE =  999999 \n",
      "\n",
      "Display operation complete!\n"
     ]
    }
   ],
   "source": [
    "entries = connection.execute(\"SELECT id, name, seatno, phone from CINEMA\")\n",
    "print(\"Displaying table entries...\")\n",
    "for entry in entries:\n",
    "    print(\"ID = \", entry[0])\n",
    "    print(\"NAME = \", entry[1])\n",
    "    print(\"SEATNO = \", entry[2])\n",
    "    print(\"PHONE = \", entry[3], \"\\n\")\n",
    "print(\"Display operation complete!\")"
   ]
  },
  {
   "cell_type": "markdown",
   "metadata": {},
   "source": [
    "### E) Updating Data\n",
    "Here we modify the seat number of ID = 1"
   ]
  },
  {
   "cell_type": "code",
   "execution_count": 6,
   "metadata": {},
   "outputs": [
    {
     "name": "stdout",
     "output_type": "stream",
     "text": [
      "Displaying updated table entries...\n",
      "ID =  1\n",
      "NAME =  MIKE\n",
      "SEATNO =  33\n",
      "PHONE =  99999 \n",
      "\n",
      "ID =  2\n",
      "NAME =  CHANDLER\n",
      "SEATNO =  24\n",
      "PHONE =  999999 \n",
      "\n",
      "Display operation complete!\n"
     ]
    }
   ],
   "source": [
    "connection.execute(\"UPDATE CINEMA set SEATNO = 33 where ID = 1\")\n",
    "connection.commit()\n",
    "\n",
    "entries = connection.execute(\"SELECT id, name, seatno, phone from CINEMA\")\n",
    "print(\"Displaying updated table entries...\")\n",
    "for entry in entries:\n",
    "    print(\"ID = \", entry[0])\n",
    "    print(\"NAME = \", entry[1])\n",
    "    print(\"SEATNO = \", entry[2])\n",
    "    print(\"PHONE = \", entry[3], \"\\n\")\n",
    "print(\"Display operation complete!\")"
   ]
  },
  {
   "cell_type": "markdown",
   "metadata": {},
   "source": [
    "### F) Deleting Data\n",
    "Here we delete the user information with ID = 2"
   ]
  },
  {
   "cell_type": "code",
   "execution_count": 8,
   "metadata": {},
   "outputs": [
    {
     "name": "stdout",
     "output_type": "stream",
     "text": [
      "Displaying updated table entries...\n",
      "ID =  1\n",
      "NAME =  MIKE\n",
      "SEATNO =  33\n",
      "PHONE =  99999 \n",
      "\n",
      "Display operation complete!\n"
     ]
    }
   ],
   "source": [
    "connection.execute(\"DELETE from CINEMA where ID = 2\")\n",
    "connection.commit()\n",
    "\n",
    "entries = connection.execute(\"SELECT id, name, seatno, phone from CINEMA\")\n",
    "print(\"Displaying updated table entries...\")\n",
    "for entry in entries:\n",
    "    print(\"ID = \", entry[0])\n",
    "    print(\"NAME = \", entry[1])\n",
    "    print(\"SEATNO = \", entry[2])\n",
    "    print(\"PHONE = \", entry[3], \"\\n\")\n",
    "print(\"Display operation complete!\")"
   ]
  },
  {
   "cell_type": "markdown",
   "metadata": {},
   "source": [
    "# MySQL\n",
    "MySQL does not have a default module in Python like SQLite. So you need to install the module for MySQL before performing operations.\n"
   ]
  },
  {
   "cell_type": "code",
   "execution_count": 4,
   "metadata": {},
   "outputs": [
    {
     "name": "stdout",
     "output_type": "stream",
     "text": [
      "Requirement already satisfied: mysql-connector-python in d:\\anaconda\\lib\\site-packages (8.0.20)\n",
      "Requirement already satisfied: protobuf>=3.0.0 in d:\\anaconda\\lib\\site-packages (from mysql-connector-python) (3.11.4)\n",
      "Requirement already satisfied: six>=1.9 in c:\\users\\yash sonar\\appdata\\roaming\\python\\python37\\site-packages (from protobuf>=3.0.0->mysql-connector-python) (1.12.0)\n",
      "Requirement already satisfied: setuptools in d:\\anaconda\\lib\\site-packages (from protobuf>=3.0.0->mysql-connector-python) (41.0.1)\n",
      "Note: you may need to restart the kernel to use updated packages.\n"
     ]
    }
   ],
   "source": [
    "pip install mysql-connector-python"
   ]
  },
  {
   "cell_type": "markdown",
   "metadata": {},
   "source": [
    "If you have not yet created a database then execute this code segment to create one before proceeding"
   ]
  },
  {
   "cell_type": "markdown",
   "metadata": {},
   "source": [
    "### A) Creating a Connection\n",
    "This statement will connect to the mysql server you have set up on your laptop. You need to use this connection to **create a database** of name \"mydatabase\" (or any name of your choice)"
   ]
  },
  {
   "cell_type": "code",
   "execution_count": 49,
   "metadata": {},
   "outputs": [
    {
     "name": "stdout",
     "output_type": "stream",
     "text": [
      "Database exists!\n"
     ]
    }
   ],
   "source": [
    "try:\n",
    "    connection = mysql.connector.connect(user='Yash',\n",
    "                               host='localhost',\n",
    "                               password='Yash@2000')\n",
    "    mycursor = connection.cursor()\n",
    "    mycursor.execute(\"CREATE DATABASE mydatabase\")\n",
    "except:\n",
    "    print(\"Database exists!\")"
   ]
  },
  {
   "cell_type": "markdown",
   "metadata": {},
   "source": [
    "This code segment is used to **connect to the database** we created \"mydatabase\".\n",
    "We use a try and catch block to catch the errors (if any) encountered during the connection step."
   ]
  },
  {
   "cell_type": "code",
   "execution_count": 50,
   "metadata": {},
   "outputs": [
    {
     "name": "stdout",
     "output_type": "stream",
     "text": [
      "Connected to database!\n"
     ]
    }
   ],
   "source": [
    "import mysql.connector\n",
    "from mysql.connector import errorcode, Error\n",
    "\n",
    "try:\n",
    "    connection = mysql.connector.connect(user='Yash',\n",
    "                               host='localhost',\n",
    "                               password='Yash@2000',\n",
    "                               database=\"mydatabase\")\n",
    "    print(\"Connected to database!\")\n",
    "except Error as err:\n",
    "    if err.errno == errorcode.ER_ACCESS_DENIED_ERROR:\n",
    "        print(\"Something is wrong with your user name or password\")\n",
    "    elif err.errno == errorcode.ER_BAD_DB_ERROR:\n",
    "        print(\"Database does not exist\")\n",
    "    else:\n",
    "        print(err)"
   ]
  },
  {
   "cell_type": "markdown",
   "metadata": {},
   "source": [
    "### B) Creating a Table\n",
    "A table is an empty structure where you can insert data using the insert operation. Data cannot be inserted into a table which has not been created yet"
   ]
  },
  {
   "cell_type": "code",
   "execution_count": 51,
   "metadata": {},
   "outputs": [
    {
     "name": "stdout",
     "output_type": "stream",
     "text": [
      "Failed to create table in MySQL: 1050 (42S01): Table 'cinema' already exists\n"
     ]
    }
   ],
   "source": [
    "try:\n",
    "    cursor = connection.cursor()\n",
    "    result = cursor.execute(\"\"\"CREATE TABLE Cinema ( \n",
    "                                 Id int(11) NOT NULL,\n",
    "                                 Name varchar(250) NOT NULL,\n",
    "                                 Seatno int NOT NULL,\n",
    "                                 Phone int NOT NULL,\n",
    "                                 PRIMARY KEY (Id)) \"\"\")\n",
    "    print(\"Cinema Table created successfully\")\n",
    "except mysql.connector.Error as error:\n",
    "    print(\"Failed to create table in MySQL: {}\".format(error))"
   ]
  },
  {
   "cell_type": "markdown",
   "metadata": {},
   "source": [
    "### C) Inserting Data\n",
    "Now we insert data inside the table we created\n",
    "\n",
    "**IMPORTANT**: Make sure if you are writing the string inside double quotes(\" \") then write the string VALUES in single quotes (' ') and vice versa"
   ]
  },
  {
   "cell_type": "code",
   "execution_count": 52,
   "metadata": {},
   "outputs": [
    {
     "name": "stdout",
     "output_type": "stream",
     "text": [
      "1 Record inserted successfully into Cinema table\n"
     ]
    }
   ],
   "source": [
    "try:\n",
    "    cursor = connection.cursor()\n",
    "    cursor.execute(\"\"\"INSERT INTO Cinema (Id, Name, Seatno, Phone) \n",
    "                           VALUES \n",
    "                           (10, 'Mike', 23, 9999) \"\"\")\n",
    "    connection.commit()\n",
    "    print(cursor.rowcount, \"Record inserted successfully into Cinema table\")\n",
    "    cursor.close()\n",
    "except mysql.connector.Error as error:\n",
    "    print(\"Failed to insert record into Laptop table {}\".format(error))"
   ]
  },
  {
   "cell_type": "markdown",
   "metadata": {},
   "source": [
    "Here we insert **multiple rows** in a single query"
   ]
  },
  {
   "cell_type": "code",
   "execution_count": 53,
   "metadata": {},
   "outputs": [
    {
     "name": "stdout",
     "output_type": "stream",
     "text": [
      "3 Record inserted successfully into Laptop table\n"
     ]
    }
   ],
   "source": [
    "mySql_insert_query = \"\"\"INSERT INTO Cinema (Id, Name, Seatno, Phone) \n",
    "                           VALUES (%s, %s, %s, %s) \"\"\"\n",
    "\n",
    "records_to_insert = [(4, 'Chandler', 19, 873),\n",
    "                     (5, 'Joey', 57, 7323),\n",
    "                     (6, 'Rachel', 23, 3742)]\n",
    "try:\n",
    "    cursor = connection.cursor()\n",
    "    cursor.executemany(mySql_insert_query, records_to_insert)\n",
    "    connection.commit()\n",
    "    print(cursor.rowcount, \"Record inserted successfully into Laptop table\")\n",
    "except mysql.connector.Error as error:\n",
    "    print(\"Failed to insert record into MySQL table {}\".format(error))"
   ]
  },
  {
   "cell_type": "markdown",
   "metadata": {},
   "source": [
    "### D) Fetching Data\n",
    "Here we access the data we just inserted in the table Cinema\n",
    "\n",
    "**Fetching the whole table**"
   ]
  },
  {
   "cell_type": "code",
   "execution_count": 54,
   "metadata": {},
   "outputs": [
    {
     "name": "stdout",
     "output_type": "stream",
     "text": [
      "Total number of rows in Cinema is:  4\n",
      "\n",
      "Printing each Cinema record\n",
      "Id =  4\n",
      "Name =  Chandler\n",
      "Price  =  19\n",
      "Purchase date  =  873 \n",
      "\n",
      "Id =  5\n",
      "Name =  Joey\n",
      "Price  =  57\n",
      "Purchase date  =  7323 \n",
      "\n",
      "Id =  6\n",
      "Name =  Rachel\n",
      "Price  =  23\n",
      "Purchase date  =  3742 \n",
      "\n",
      "Id =  10\n",
      "Name =  Mike\n",
      "Price  =  23\n",
      "Purchase date  =  9999 \n",
      "\n"
     ]
    }
   ],
   "source": [
    "try:\n",
    "    cursor = connection.cursor()\n",
    "    cursor.execute(\"select * from Cinema\")\n",
    "    records = cursor.fetchall()\n",
    "    print(\"Total number of rows in Cinema is: \", cursor.rowcount)\n",
    "    \n",
    "    print(\"\\nPrinting each Cinema record\")\n",
    "    for row in records:\n",
    "        print(\"Id = \", row[0], )\n",
    "        print(\"Name = \", row[1])\n",
    "        print(\"Price  = \", row[2])\n",
    "        print(\"Purchase date  = \", row[3], \"\\n\")\n",
    "    cursor.close()\n",
    "except Error as e:\n",
    "    print(\"Error reading data from MySQL table\", e)"
   ]
  },
  {
   "cell_type": "markdown",
   "metadata": {},
   "source": [
    "**Fetching 1 row with a specific ID**"
   ]
  },
  {
   "cell_type": "code",
   "execution_count": 55,
   "metadata": {},
   "outputs": [
    {
     "name": "stdout",
     "output_type": "stream",
     "text": [
      "(10, 'Mike', 23, 9999)\n"
     ]
    }
   ],
   "source": [
    "try:\n",
    "    cursor = connection.cursor(buffered=True)\n",
    "    sql_select_query = \"\"\"select * from Cinema where id = 10\"\"\"\n",
    "    cursor.execute(sql_select_query)\n",
    "    record = cursor.fetchone()\n",
    "    print(record)\n",
    "except mysql.connector.Error as error:\n",
    "    print(\"Error reading data from MySQL table\", error)"
   ]
  },
  {
   "cell_type": "markdown",
   "metadata": {},
   "source": [
    "### E) Updating Data\n",
    "Here we modify the seat number of ID = 10"
   ]
  },
  {
   "cell_type": "code",
   "execution_count": 56,
   "metadata": {},
   "outputs": [
    {
     "name": "stdout",
     "output_type": "stream",
     "text": [
      "(10, 'Mike', 23, 9999)\n",
      "Record Updated successfully \n",
      "After updating record \n",
      "(10, 'Mike', 71, 9999)\n"
     ]
    }
   ],
   "source": [
    "try:\n",
    "    cursor = connection.cursor()\n",
    "    sql_select_query = \"\"\"select * from Cinema where id = 10\"\"\"\n",
    "    cursor.execute(sql_select_query)\n",
    "    record = cursor.fetchone()\n",
    "    print(record)\n",
    "    \n",
    "    # Update single record now\n",
    "    sql_update_query = \"\"\"Update Cinema set Seatno = 71 where id = 10\"\"\"\n",
    "    cursor.execute(sql_update_query)\n",
    "    connection.commit()\n",
    "    print(\"Record Updated successfully \")\n",
    "    \n",
    "    print(\"After updating record \")\n",
    "    cursor.execute(sql_select_query)\n",
    "    record = cursor.fetchone()\n",
    "    print(record)\n",
    "except mysql.connector.Error as error:\n",
    "    print(\"Failed to update table record: {}\".format(error))"
   ]
  },
  {
   "cell_type": "markdown",
   "metadata": {},
   "source": [
    "Here we update **multiple rows** in a single query"
   ]
  },
  {
   "cell_type": "code",
   "execution_count": 57,
   "metadata": {},
   "outputs": [
    {
     "name": "stdout",
     "output_type": "stream",
     "text": [
      "1 Records of a Cinema table updated successfully\n"
     ]
    }
   ],
   "source": [
    "try:\n",
    "    cursor = connection.cursor()\n",
    "    sql_update_query = \"\"\"Update Cinema set Seatno = %s where id = %s\"\"\"\n",
    "    \n",
    "    # multiple records to be updated in tuple format\n",
    "    records_to_update = [(100, 10), (110, 11)]\n",
    "    cursor.executemany(sql_update_query, records_to_update)\n",
    "    connection.commit()\n",
    "\n",
    "    print(cursor.rowcount, \"Records of a Cinema table updated successfully\")\n",
    "except mysql.connector.Error as error:\n",
    "    print(\"Failed to update records to database: {}\".format(error))"
   ]
  },
  {
   "cell_type": "markdown",
   "metadata": {},
   "source": [
    "### F) Deleting Data\n",
    "Here we delete the user information with ID = 11"
   ]
  },
  {
   "cell_type": "code",
   "execution_count": 58,
   "metadata": {},
   "outputs": [
    {
     "name": "stdout",
     "output_type": "stream",
     "text": [
      "Displaying Cinema record Before Deleting it\n",
      "(10, 'Mike', 100, 9999)\n",
      "\n",
      "Record Deleted successfully \n"
     ]
    }
   ],
   "source": [
    "try:\n",
    "    cursor = connection.cursor()\n",
    "    print(\"Displaying Cinema record Before Deleting it\")\n",
    "    sql_select_query = \"\"\"select * from Cinema where id = 10\"\"\"\n",
    "    cursor.execute(sql_select_query)\n",
    "    record = cursor.fetchone()\n",
    "    print(record)\n",
    "    \n",
    "    sql_Delete_query = \"\"\"Delete from Cinema where id = 10\"\"\"\n",
    "    cursor.execute(sql_Delete_query)\n",
    "    connection.commit()\n",
    "\n",
    "    cursor.execute(sql_select_query)\n",
    "    records = cursor.fetchall()\n",
    "    if len(records) == 0:\n",
    "        print(\"\\nRecord Deleted successfully \")\n",
    "except mysql.connector.Error as error:\n",
    "    print(\"Failed to delete record from table: {}\".format(error))"
   ]
  },
  {
   "cell_type": "markdown",
   "metadata": {},
   "source": [
    "Here we empty the whole table"
   ]
  },
  {
   "cell_type": "code",
   "execution_count": 59,
   "metadata": {},
   "outputs": [
    {
     "name": "stdout",
     "output_type": "stream",
     "text": [
      "All Record Deleted successfully \n"
     ]
    }
   ],
   "source": [
    "try:\n",
    "    cursor = connection.cursor()\n",
    "    Delete_all_rows = \"\"\"truncate table Cinema \"\"\"\n",
    "    cursor.execute(Delete_all_rows)\n",
    "    connection.commit()\n",
    "    print(\"All Record Deleted successfully \")\n",
    "except mysql.connector.Error as error:\n",
    "    print(\"Failed to Delete all records from database table: {}\".format(error))"
   ]
  },
  {
   "cell_type": "markdown",
   "metadata": {},
   "source": [
    "# PostgreSQL\n",
    "PostgreSQL does not have a default module in Python like SQLite. So you need to install the module for PostgreSQL before performing operations."
   ]
  },
  {
   "cell_type": "code",
   "execution_count": 1,
   "metadata": {},
   "outputs": [
    {
     "name": "stdout",
     "output_type": "stream",
     "text": [
      "Requirement already satisfied: psycopg2 in d:\\anaconda\\lib\\site-packages (2.8.4)\n",
      "Note: you may need to restart the kernel to use updated packages.\n"
     ]
    }
   ],
   "source": [
    "pip install psycopg2"
   ]
  },
  {
   "cell_type": "markdown",
   "metadata": {},
   "source": [
    "Here we establish a connection and create a database named"
   ]
  },
  {
   "cell_type": "markdown",
   "metadata": {},
   "source": [
    "### A) Connecting to Database\n",
    "This statement will connect to the PostgreSQL server you have set up on your laptop. You need to use this connection to ***create a database*** of name \"mydatabase\" (or any name of your choice)\n",
    "\n",
    "The default user name is in PostgreSQL is named \"postgres\" so we access through this user"
   ]
  },
  {
   "cell_type": "code",
   "execution_count": 60,
   "metadata": {},
   "outputs": [
    {
     "name": "stdout",
     "output_type": "stream",
     "text": [
      "Database already exists!\n"
     ]
    }
   ],
   "source": [
    "import psycopg2\n",
    "conn = psycopg2.connect(\n",
    "   user='postgres', password='Yash@2000', host='127.0.0.1', port= '5432'\n",
    ")\n",
    "conn.autocommit = True\n",
    "\n",
    "#Creating a cursor object using the cursor() method\n",
    "cursor = conn.cursor()\n",
    "\n",
    "try:\n",
    "    #Preparing query to create a database\n",
    "    sql = '''CREATE database mydatabase''';\n",
    "\n",
    "    #Creating a database\n",
    "    cursor.execute(sql)\n",
    "    print(\"Database created successfully!\")\n",
    "except:\n",
    "    print(\"Database already exists!\")\n",
    "\n",
    "#Closing the connection\n",
    "conn.close()"
   ]
  },
  {
   "cell_type": "markdown",
   "metadata": {},
   "source": [
    "This code segment is used to **connect to the database** we created \"mydatabase\". We use a try and catch block to catch the errors (if any) encountered during the connection step."
   ]
  },
  {
   "cell_type": "code",
   "execution_count": 61,
   "metadata": {},
   "outputs": [
    {
     "name": "stdout",
     "output_type": "stream",
     "text": [
      "{'user': 'postgres', 'dbname': 'mydatabase', 'host': '127.0.0.1', 'port': '5432', 'tty': '', 'options': '', 'sslmode': 'prefer', 'sslcompression': '0', 'krbsrvname': 'postgres', 'target_session_attrs': 'any'} \n",
      "\n",
      "You are connected to -  ('PostgreSQL 12.3, compiled by Visual C++ build 1914, 64-bit',) \n",
      "\n"
     ]
    }
   ],
   "source": [
    "try:\n",
    "    connection = psycopg2.connect(user = \"postgres\",\n",
    "                                  password = \"Yash@2000\",\n",
    "                                  host = \"127.0.0.1\",\n",
    "                                  port = \"5432\",\n",
    "                                  database = \"mydatabase\")\n",
    "\n",
    "    cursor = connection.cursor()\n",
    "    # Print PostgreSQL Connection properties\n",
    "    print ( connection.get_dsn_parameters(),\"\\n\")\n",
    "\n",
    "    # Print PostgreSQL version\n",
    "    cursor.execute(\"SELECT version();\")\n",
    "    record = cursor.fetchone()\n",
    "    print(\"You are connected to - \", record,\"\\n\")\n",
    "\n",
    "except (Exception, psycopg2.Error) as error :\n",
    "    print (\"Error while connecting to PostgreSQL\", error)"
   ]
  },
  {
   "cell_type": "markdown",
   "metadata": {},
   "source": [
    "### B) Creating a Table\n",
    "A table is an empty structure where you can insert data using the insert operation. Data cannot be inserted into a table which has not been created yet"
   ]
  },
  {
   "cell_type": "code",
   "execution_count": 62,
   "metadata": {},
   "outputs": [
    {
     "name": "stdout",
     "output_type": "stream",
     "text": [
      "Error while creating PostgreSQL table relation \"cinema\" already exists\n",
      "\n"
     ]
    }
   ],
   "source": [
    "import psycopg2\n",
    "from psycopg2 import Error\n",
    "\n",
    "try:\n",
    "    cursor = connection.cursor()\n",
    "    \n",
    "    create_table_query = '''CREATE TABLE Cinema\n",
    "          (ID INT PRIMARY KEY     NOT NULL,\n",
    "          NAME           TEXT    NOT NULL,\n",
    "          SEATNO         INT    NOT NULL,\n",
    "          PHONE        INT     NOT NULL); '''\n",
    "    \n",
    "    cursor.execute(create_table_query)\n",
    "    connection.commit()\n",
    "    print(\"Table created successfully in PostgreSQL \")\n",
    "\n",
    "except (Exception, psycopg2.DatabaseError) as error :\n",
    "    print (\"Error while creating PostgreSQL table\", error)"
   ]
  },
  {
   "cell_type": "markdown",
   "metadata": {},
   "source": [
    "### C) Inserting Data\n",
    "Now we insert data inside the table we created\n",
    "\n",
    "**IMPORTANT**: Make sure if you are writing the string inside double quotes(\" \") then write the string VALUES in single quotes (' ') and vice versa"
   ]
  },
  {
   "cell_type": "code",
   "execution_count": 63,
   "metadata": {},
   "outputs": [
    {
     "name": "stdout",
     "output_type": "stream",
     "text": [
      "1 Record inserted successfully into Cinema table\n"
     ]
    }
   ],
   "source": [
    "try:\n",
    "    connection = psycopg2.connect(user = \"postgres\",\n",
    "                                  password = \"Yash@2000\",\n",
    "                                  host = \"127.0.0.1\",\n",
    "                                  port = \"5432\",\n",
    "                                  database = \"mydatabase\")\n",
    "    cursor = connection.cursor()\n",
    "\n",
    "    postgres_insert_query = \"\"\" INSERT INTO Cinema (Id, Name, Seatno, Phone) VALUES (10, 'Mike', 23, 9999)\"\"\"\n",
    "    cursor.execute(postgres_insert_query, record_to_insert)\n",
    "\n",
    "    connection.commit()\n",
    "    count = cursor.rowcount\n",
    "    print (count, \"Record inserted successfully into Cinema table\")\n",
    "\n",
    "except (Exception, psycopg2.Error) as error :\n",
    "    if(connection):\n",
    "        print(\"Failed to insert record into Cinema table\", error)"
   ]
  },
  {
   "cell_type": "markdown",
   "metadata": {},
   "source": [
    "Here we insert **multiple rows** in a single query"
   ]
  },
  {
   "cell_type": "code",
   "execution_count": 64,
   "metadata": {},
   "outputs": [
    {
     "name": "stdout",
     "output_type": "stream",
     "text": [
      "3 Record inserted successfully into Cinema table\n"
     ]
    }
   ],
   "source": [
    "try:\n",
    "    connection = psycopg2.connect(user = \"postgres\",\n",
    "                                  password = \"Yash@2000\",\n",
    "                                  host = \"127.0.0.1\",\n",
    "                                  port = \"5432\",\n",
    "                                  database = \"mydatabase\")\n",
    "    cursor = connection.cursor()\n",
    "\n",
    "    postgres_insert_query = \"\"\" INSERT INTO Cinema (Id, Name, Seatno, Phone) VALUES (%s,%s,%s,%s)\"\"\"\n",
    "    record_to_insert = [(4, 'Chandler', 19, 873),\n",
    "                     (5, 'Joey', 57, 7323),\n",
    "                     (6, 'Rachel', 23, 3742)]\n",
    "    cursor.executemany(postgres_insert_query, record_to_insert)\n",
    "\n",
    "    connection.commit()\n",
    "    count = cursor.rowcount\n",
    "    print (count, \"Record inserted successfully into Cinema table\")\n",
    "\n",
    "except (Exception, psycopg2.Error) as error :\n",
    "    if(connection):\n",
    "        print(\"Failed to insert record into Cinema table\", error)"
   ]
  },
  {
   "cell_type": "markdown",
   "metadata": {},
   "source": [
    "### D) Fetching Data\n",
    "Here we access the data we just inserted in the table Cinema\n",
    "\n",
    "**Fetching the whole table**"
   ]
  },
  {
   "cell_type": "code",
   "execution_count": 65,
   "metadata": {},
   "outputs": [
    {
     "name": "stdout",
     "output_type": "stream",
     "text": [
      "Selecting rows from Cinema table using cursor.fetchall\n",
      "Print each row and it's columns values\n",
      "Id =  10\n",
      "Model =  Mike\n",
      "Seat No =  23\n",
      "Phone  =  9999 \n",
      "\n",
      "Id =  4\n",
      "Model =  Chandler\n",
      "Seat No =  19\n",
      "Phone  =  873 \n",
      "\n",
      "Id =  5\n",
      "Model =  Joey\n",
      "Seat No =  57\n",
      "Phone  =  7323 \n",
      "\n",
      "Id =  6\n",
      "Model =  Rachel\n",
      "Seat No =  23\n",
      "Phone  =  3742 \n",
      "\n"
     ]
    }
   ],
   "source": [
    "try:\n",
    "    cursor = connection.cursor()\n",
    "    postgreSQL_select_Query = \"select * from Cinema\"\n",
    "\n",
    "    cursor.execute(postgreSQL_select_Query)\n",
    "    print(\"Selecting rows from Cinema table using cursor.fetchall\")\n",
    "    cinema_records = cursor.fetchall() \n",
    "   \n",
    "    print(\"Print each row and it's columns values\")\n",
    "    for row in cinema_records:\n",
    "        print(\"Id = \", row[0], )\n",
    "        print(\"Model = \", row[1])\n",
    "        print(\"Seat No = \", row[2])\n",
    "        print(\"Phone  = \", row[3], \"\\n\")\n",
    "\n",
    "except (Exception, psycopg2.Error) as error :\n",
    "    print (\"Error while fetching data from PostgreSQL\", error)"
   ]
  },
  {
   "cell_type": "markdown",
   "metadata": {},
   "source": [
    "**Fetching 1 row with a specific ID**"
   ]
  },
  {
   "cell_type": "code",
   "execution_count": 66,
   "metadata": {},
   "outputs": [
    {
     "name": "stdout",
     "output_type": "stream",
     "text": [
      "(10, 'Mike', 23, 9999)\n"
     ]
    }
   ],
   "source": [
    "try:\n",
    "    cursor = connection.cursor()\n",
    "    postgreSQL_select_query = \"\"\"select * from Cinema where id = 10\"\"\"\n",
    "    cursor.execute(postgreSQL_select_query)\n",
    "    record = cursor.fetchone()\n",
    "    print(record)\n",
    "except (Exception, psycopg2.Error) as error :\n",
    "    print(\"Error reading data from PostgreSQL table\", error)"
   ]
  },
  {
   "cell_type": "markdown",
   "metadata": {},
   "source": [
    "### E) Updating Data\n",
    "Here we modify the seat number of ID = 10"
   ]
  },
  {
   "cell_type": "code",
   "execution_count": 67,
   "metadata": {},
   "outputs": [
    {
     "name": "stdout",
     "output_type": "stream",
     "text": [
      "Table Before updating record \n",
      "(10, 'Mike', 23, 9999)\n",
      "1 Record Updated successfully \n",
      "Table After updating record \n",
      "(10, 'Mike', 71, 9999)\n"
     ]
    }
   ],
   "source": [
    "try:\n",
    "    cursor = connection.cursor()\n",
    "\n",
    "    print(\"Table Before updating record \")\n",
    "    sql_select_query = \"\"\"select * from Cinema where id = 10\"\"\"\n",
    "    cursor.execute(sql_select_query)\n",
    "    record = cursor.fetchone()\n",
    "    print(record)\n",
    "\n",
    "    # Update single record now\n",
    "    sql_update_query = \"\"\"Update Cinema set Seatno = 71 where id = 10\"\"\"\n",
    "    cursor.execute(sql_update_query)\n",
    "    connection.commit()\n",
    "    count = cursor.rowcount\n",
    "    print(count, \"Record Updated successfully \")\n",
    "\n",
    "    print(\"Table After updating record \")\n",
    "    sql_select_query = \"\"\"select * from Cinema where id = 10\"\"\"\n",
    "    cursor.execute(sql_select_query)\n",
    "    record = cursor.fetchone()\n",
    "    print(record)\n",
    "\n",
    "except (Exception, psycopg2.Error) as error:\n",
    "    print(\"Error in update operation\", error)\n"
   ]
  },
  {
   "cell_type": "code",
   "execution_count": 68,
   "metadata": {},
   "outputs": [
    {
     "name": "stdout",
     "output_type": "stream",
     "text": [
      "2 Record Updated successfully \n"
     ]
    }
   ],
   "source": [
    "try:\n",
    "    cursor = connection.cursor()\n",
    "\n",
    "    # Update single record now\n",
    "    sql_update_query = \"\"\"Update Cinema set Seatno = %s where id = %s\"\"\"\n",
    "    \n",
    "    # multiple records to be updated in tuple format\n",
    "    records_to_update = [(100, 10), (110, 5)]\n",
    "    cursor.executemany(sql_update_query, records_to_update)\n",
    "    connection.commit()\n",
    "    count = cursor.rowcount\n",
    "    print(count, \"Record Updated successfully \")\n",
    "\n",
    "except (Exception, psycopg2.Error) as error:\n",
    "    print(\"Error in update operation\", error)"
   ]
  },
  {
   "cell_type": "markdown",
   "metadata": {},
   "source": [
    "### F) Deleting Data\n",
    "Here we delete the user information with ID = 5"
   ]
  },
  {
   "cell_type": "code",
   "execution_count": 69,
   "metadata": {},
   "outputs": [
    {
     "name": "stdout",
     "output_type": "stream",
     "text": [
      "1 Record deleted successfully \n"
     ]
    }
   ],
   "source": [
    "try:\n",
    "    connection = psycopg2.connect(user = \"postgres\",\n",
    "                                  password = \"Yash@2000\",\n",
    "                                  host = \"127.0.0.1\",\n",
    "                                  port = \"5432\",\n",
    "                                  database = \"mydatabase\")\n",
    "\n",
    "    cursor = connection.cursor()\n",
    "\n",
    "    # Update single record now\n",
    "    sql_delete_query = \"\"\"Delete from Cinema where id = 5\"\"\"\n",
    "    cursor.execute(sql_delete_query)\n",
    "    connection.commit()\n",
    "    count = cursor.rowcount\n",
    "    print(count, \"Record deleted successfully \")\n",
    "\n",
    "except (Exception, psycopg2.Error) as error:\n",
    "    print(\"Error in Delete operation\", error)\n"
   ]
  },
  {
   "cell_type": "markdown",
   "metadata": {},
   "source": [
    "Here we empty the whole table"
   ]
  },
  {
   "cell_type": "code",
   "execution_count": 70,
   "metadata": {},
   "outputs": [
    {
     "name": "stdout",
     "output_type": "stream",
     "text": [
      "All records deleted successfully \n"
     ]
    }
   ],
   "source": [
    "try:\n",
    "    cursor = connection.cursor()\n",
    "\n",
    "    # Update single record now\n",
    "    sql_delete_query = \"\"\"Truncate table Cinema\"\"\"\n",
    "    cursor.execute(sql_delete_query)\n",
    "    connection.commit()\n",
    "    print(\"All records deleted successfully \")\n",
    "\n",
    "except (Exception, psycopg2.Error) as error:\n",
    "    print(\"Failed to Delete all records from database table:\", error)"
   ]
  },
  {
   "cell_type": "markdown",
   "metadata": {},
   "source": [
    "This tutorial is intended to be a public resource. As such, if you see any glaring inaccuracies or if a critical topic is missing, please feel free to point it out or (preferably) submit a pull request to improve the tutorial. Also, we are always looking to improve the scope of this article. For anything feel free to mail us @ colearninglounge@gmail.com"
   ]
  },
  {
   "cell_type": "markdown",
   "metadata": {},
   "source": [
    "Author of this article is Yash Sonar. You can follow him on [LinkedIn](https://www.linkedin.com/in/yash-sonar-b89265176/), [Medium](https://medium.com/@yashsonar213) and [Github](https://github.com/Yash-567) "
   ]
  }
 ],
 "metadata": {
  "kernelspec": {
   "display_name": "Python 3",
   "language": "python",
   "name": "python3"
  },
  "language_info": {
   "codemirror_mode": {
    "name": "ipython",
    "version": 3
   },
   "file_extension": ".py",
   "mimetype": "text/x-python",
   "name": "python",
   "nbconvert_exporter": "python",
   "pygments_lexer": "ipython3",
   "version": "3.7.3"
  }
 },
 "nbformat": 4,
 "nbformat_minor": 2
}
