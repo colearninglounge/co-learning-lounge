{
 "cells": [
  {
   "cell_type": "markdown",
   "metadata": {},
   "source": [
    "# Python List\n",
    "\n",
    "First thing is the first list is one of the many data structures in python.\n",
    "\n",
    "So We try to correlate the thing that we have learned before in our computer science journey.\n",
    "\n",
    "I think every computer science student know about the array data structure. It is in every programming language from c to CPP to java to java_script.\n",
    "\n",
    "Briefly speaking about array it is just a data structure which stores data values(int, float, character etc;) in sequential order.\n",
    "\n",
    "What I mean the word sequential is:\n",
    "            1.The order of values won't changes which means it will maintain the insertion order. For example, we have inserted 1 into the array and then 2, 3 4, ..... when you prin the array you can see it will print Output: 1, 2, 3, 4 ..(which mean it follows the input order\n",
    "\n",
    "So by now, we all know what array is.\n",
    "\n",
    "Python list is also the same as an array but with some more features than it.\n",
    "\n",
    "A list is a collection which is ordered and changeable. In Python, lists are written with square brackets. The list is a most versatile datatype available in Python which can be written as a list of comma-separated values (items) between square brackets. The important thing about a list is that items in a list need not be of the same type.\n",
    "\n",
    "For example, List may contain DataTypes like Integers, Strings, as well as Objects. Lists are mutable, and hence, they can be altered even after their creation.\n",
    "\n",
    "I think by now we know that the size of the list is dynamic like vector in CPP.\n",
    "\n",
    "so let us see the syntax of the list.\n",
    "\n",
    "List has no data type we can insert any type of data in to the list.\n",
    "\n",
    "for example:\n",
    "==> generic_list = [1,'c', 2.4]\n",
    "so that numbers_list = [1,2,3,4].\n"
   ]
  },
  {
   "cell_type": "code",
   "execution_count": 1,
   "metadata": {},
   "outputs": [
    {
     "name": "stdout",
     "output_type": "stream",
     "text": [
      "<type 'list'>\n",
      "<type 'list'>\n",
      "True\n"
     ]
    }
   ],
   "source": [
    "list1 = []\n",
    "\n",
    "list2 = list()\n",
    "\n",
    "print(type(list1))\n",
    "print(type(list2))\n",
    "\n",
    "print(type(list1) == type(list2))"
   ]
  },
  {
   "cell_type": "code",
   "execution_count": null,
   "metadata": {},
   "outputs": [],
   "source": [
    "# Creating a List \n",
    "my_list = [] \n",
    "print(\"Blank List: \") \n",
    "print(my_list) \n",
    "  \n",
    "# Creating a List of numbers \n",
    "my_list = [10, 20, 14] \n",
    "print(\"\\nList of numbers: \") \n",
    "print(my_list)\n",
    "\n",
    "# list with mixed data types\n",
    "my_list = [1, \"Hello\", 3.4]\n",
    "print \"mixed data types list\", my_list"
   ]
  },
  {
   "cell_type": "markdown",
   "metadata": {},
   "source": [
    "### So above we have seen how to create a empty list, list with values and also list with different data type values.\n",
    "\n",
    "#### Now lets see some more example to better understand list"
   ]
  },
  {
   "cell_type": "code",
   "execution_count": null,
   "metadata": {},
   "outputs": [],
   "source": [
    "# Creating a List with  \n",
    "# the use of Numbers \n",
    "# (Having duplicate values) \n",
    "my_list = [1, 2, 4, 4, 3, 3, 3, 6, 5] \n",
    "print(\"\\nList with the use of Numbers: \") \n",
    "print(my_list) \n",
    "  \n",
    "# Creating a List with  \n",
    "# mixed type of values \n",
    "# (Having numbers and strings) \n",
    "my_list = [1, 2, 'Geeks', 4, 'For', 6, 'Geeks'] \n",
    "print(\"\\nList with the use of Mixed Values: \") \n",
    "print(my_list)"
   ]
  },
  {
   "cell_type": "markdown",
   "metadata": {},
   "source": [
    "\n",
    "<h1 align='center'>Accessing elements from the List</h1>\n",
    "\n",
    "\n",
    "#### In order to access the list items refer to the index number.Use the index operator [ ] to access an item in a list.The index must be an integer.Nested list are accessed using nested indexing.\n",
    "\n"
   ]
  },
  {
   "cell_type": "code",
   "execution_count": null,
   "metadata": {},
   "outputs": [],
   "source": [
    "## list of numbers\n",
    "my_list = [1, 2, 3, 4, 5, 6, 7, 8, 9, 10]\n",
    "\n",
    "# By default in list the index starts with 0. which mean to retrive first element in the list we need to use\n",
    "print \"first element in the list is:\",my_list[0]\n",
    "print \"second element in the list is:\", my_list[1]\n",
    "\n",
    "#Now to check the lenght of the list we have len() function\n",
    "print \n",
    "print\n",
    "print \"lenght of the my_list is:\", len(my_list)"
   ]
  },
  {
   "cell_type": "markdown",
   "metadata": {},
   "source": [
    "#### In Python, negative sequence indexes represent positions from the end of the array.\n",
    "\n",
    "#### Instead of having to compute the offset as in List[len(List)-3],  it is enough to just write List[-3]. \n",
    "#### Negative indexing means beginning from the end,  -1 refers to the last item,  -2 refers to the second last item etc."
   ]
  },
  {
   "cell_type": "code",
   "execution_count": null,
   "metadata": {},
   "outputs": [],
   "source": [
    "#Retrive the last element from the list.\n",
    "print \"last element in the list is:\", my_list[-1]\n",
    "\n",
    "print \"first element from in the list is:\", my_list[-10]"
   ]
  },
  {
   "cell_type": "markdown",
   "metadata": {},
   "source": [
    "#### Elements can be added to the List by using built-in append() function.  \n",
    "\n",
    "#### Only one element at a time can be added to the list by using append() method,  for addition of multiple elements with the append() method,  loops are used. \n"
   ]
  },
  {
   "cell_type": "code",
   "execution_count": null,
   "metadata": {},
   "outputs": [],
   "source": [
    "# create a emptylist and data in to the list using append()\n",
    "my_list = []\n",
    "\n",
    "# Before appending the data in tot he list\n",
    "print \"Brfore appending the data \", my_list\n",
    "# appending the data in to the list.\n",
    "my_list.append(1)\n",
    "my_list.append(2)\n",
    "\n",
    "#after appending the data in tot he list.\n",
    "print \"After appending the data :\", my_list"
   ]
  },
  {
   "cell_type": "markdown",
   "metadata": {},
   "source": [
    "#### As we have seen their are many lines of append so we can use loops for it"
   ]
  },
  {
   "cell_type": "code",
   "execution_count": null,
   "metadata": {},
   "outputs": [],
   "source": [
    "my_list = []\n",
    "for i in range(10):\n",
    "    my_list.append(i)\n",
    "\n",
    "print my_list\n"
   ]
  },
  {
   "cell_type": "markdown",
   "metadata": {},
   "source": [
    "So you may think what the range function do?\n",
    "\n",
    "First thiing about the range function is, it internally creates a list.\n",
    "\n",
    "Its kind of wierd but it has many uses to it\n",
    "\n",
    "<h1 align='center'>Using Insert()</h1>\n",
    "\n",
    "\n",
    "### append() method only works for addition of elements at the end of the List,  for addition of element at the desired position,  insert() method is used. \n",
    "### Unlike append() which takes only one argument,  insert() method requires two arguments(position, value)."
   ]
  },
  {
   "cell_type": "code",
   "execution_count": null,
   "metadata": {},
   "outputs": [],
   "source": [
    "# we can insert the data into the list using insert function \n",
    "# insert function takes mainly two arguments index where to insert and value to insert\n",
    "index = 2\n",
    "value_to_insert = 4\n",
    "my_list.insert(index, value_to_insert)\n",
    "print my_list"
   ]
  },
  {
   "cell_type": "markdown",
   "metadata": {},
   "source": [
    "##### From the above we have seen that initally the value at the index 2 is 2 but after we have inserted the value 4 at the 2 index.\n",
    "\n",
    "#### Other than append() and insert() methods, there’s one more method for Addition of elements,  extend(),  this method is used to add multiple elements at the same time at the end of the list."
   ]
  },
  {
   "cell_type": "code",
   "execution_count": null,
   "metadata": {},
   "outputs": [],
   "source": [
    "my_list = [1,2,3,4] \n",
    "print(\"Initial List: \") \n",
    "print(my_list) \n",
    "  \n",
    "# Addition of multiple elements \n",
    "# to the List at the end \n",
    "# (using Extend Method) \n",
    "my_list.extend([8, 'Geeks', 'Always']) \n",
    "print(\"\\nList after performing Extend Operation: \") \n",
    "print(my_list)"
   ]
  },
  {
   "cell_type": "markdown",
   "metadata": {},
   "source": [
    "<h1 align='center'>Removing Elements from the List</h1>\n",
    "\n",
    "\n",
    "#### Elements can be removed from the List by using built-in remove() function but an Error arises if element doesn’t exist in the list. \n",
    "\n",
    "#### Remove() method only removes one element at a time, to remove range of elements, iterator is used. The remove() method removes the specified item.\n",
    "\n",
    "##### Note – Remove method in List will only remove the first occurrence of the searched element."
   ]
  },
  {
   "cell_type": "code",
   "execution_count": null,
   "metadata": {},
   "outputs": [],
   "source": [
    "# Python program to demonstrate  \n",
    "# Removal of elements in a List \n",
    "  \n",
    "# Creating a List \n",
    "my_list = [1, 2, 3, 4, 5, 6,  \n",
    "        7, 8, 9, 10, 11, 12] \n",
    "print(\"Intial List: \") \n",
    "print(my_list) \n",
    "  \n",
    "# Removing elements from List \n",
    "# using Remove() method \n",
    "my_list.remove(5) \n",
    "my_list.remove(6) \n",
    "print(\"\\nList after Removal of two elements: \") \n",
    "print(my_list) \n",
    "  \n",
    "# Removing elements from List \n",
    "# using iterator method \n",
    "for i in range(1, 5): \n",
    "    my_list.remove(i) \n",
    "print(\"\\nList after Removing a range of elements: \") \n",
    "print(my_list)"
   ]
  },
  {
   "cell_type": "markdown",
   "metadata": {},
   "source": [
    "<h1 align='center'>Using pop() method</h1>\n",
    "\n",
    "#### Pop() function can also be used to remove and return an element from the set, but by default it removes only the last element of the set, to remove element from a specific position of the List, index of the element is passed as an argument to the pop() method."
   ]
  },
  {
   "cell_type": "code",
   "execution_count": null,
   "metadata": {},
   "outputs": [],
   "source": [
    "my_list = [1,2,3,4,5] \n",
    "  \n",
    "# Removing element from the  \n",
    "# Set using the pop() method \n",
    "my_list.pop() \n",
    "print(\"\\nList after popping an element: \") \n",
    "print(my_list) \n",
    "  \n",
    "# Removing element at a  \n",
    "# specific location from the  \n",
    "# Set using the pop() method \n",
    "my_list.pop(2) \n",
    "print(\"\\nList after popping a specific element: \") \n",
    "print(my_list)"
   ]
  },
  {
   "cell_type": "markdown",
   "metadata": {},
   "source": [
    "<h1 align='center'>Slicing of a List</h1>\n",
    "\n",
    "#### In Python List, there are multiple ways to print the whole List with all the elements, but to print a specific range of elements from the list, we use <b>Slice</b> operation.\n",
    "\n",
    "#### Slice operation is performed on Lists with the use of colon(:). To print elements from beginning to a range use [:Index], to print elements from end use [:-Index], to print elements from specific Index till the end use [Index:], to print elements within a range, use [Start Index:End Index] and to print whole List with the use of slicing operation, use [:]. Further, to print whole List in reverse order, use [::-1].\n",
    "\n",
    "##### Note – To print elements of List from rear end, use Negative Indexes.\n"
   ]
  },
  {
   "cell_type": "code",
   "execution_count": null,
   "metadata": {},
   "outputs": [],
   "source": [
    "# Python program to demonstrate  \n",
    "# Removal of elements in a List \n",
    "  \n",
    "# Creating a List \n",
    "my_list = ['C', 'O', 'L', 'E', 'A', 'R', 'N', 'I', 'N', 'G', 'L', 'O', 'U', 'N', 'G', 'E'] \n",
    "print(\"Intial List: \") \n",
    "print(my_list) \n",
    "  \n",
    "# Print elements of a range \n",
    "# using Slice operation \n",
    "Sliced_List = my_list[2:10] \n",
    "print(\"\\nSlicing elements in a range 2-10: \") \n",
    "print(Sliced_List) \n",
    "  \n",
    "# Print elements from a  \n",
    "# pre-defined point to end \n",
    "Sliced_List = my_list[10:] \n",
    "print(\"\\nElements sliced from 10th \"\n",
    "      \"element till the end: \") \n",
    "print(Sliced_List) \n",
    "  \n",
    "# Printing elements from \n",
    "# beginning till end \n",
    "Sliced_List = my_list[:] \n",
    "print(\"\\nPrinting all elements using slice operation: \") \n",
    "print(Sliced_List)"
   ]
  },
  {
   "cell_type": "markdown",
   "metadata": {},
   "source": [
    "#### Negative index List slicing"
   ]
  },
  {
   "cell_type": "code",
   "execution_count": null,
   "metadata": {},
   "outputs": [],
   "source": [
    "# Creating a List \n",
    "my_list = ['C', 'O', 'L', 'E', 'A', 'R', 'N', 'I', 'N', 'G',\n",
    "           'L', 'O', 'U', 'N', 'G', 'E']  \n",
    "print(\"Initial List: \") \n",
    "print(my_list) \n",
    "  \n",
    "# Print elements from beginning \n",
    "# to a pre-defined point using Slice \n",
    "Sliced_List = my_list[:-6] \n",
    "print(\"\\nElements sliced till 6th element from last: \") \n",
    "print(Sliced_List) \n",
    "  \n",
    "# Print elements of a range \n",
    "# using negative index List slicing \n",
    "Sliced_List = my_list[-6:-1] \n",
    "print(\"\\nElements sliced from index -6 to -1\") \n",
    "print(Sliced_List) \n",
    "  \n",
    "# Printing elements in reverse \n",
    "# using Slice operation \n",
    "Sliced_List = my_list[::-1] \n",
    "print(\"\\nPrinting List in reverse: \") \n",
    "print(Sliced_List)"
   ]
  },
  {
   "cell_type": "markdown",
   "metadata": {},
   "source": [
    "Lets see one small example how slicing helps us to slove problem"
   ]
  },
  {
   "cell_type": "code",
   "execution_count": 3,
   "metadata": {},
   "outputs": [
    {
     "name": "stdout",
     "output_type": "stream",
     "text": [
      "30\n",
      "30\n",
      "30\n"
     ]
    }
   ],
   "source": [
    "# calculate the some of the even numbers in the list\n",
    "\n",
    "#traditional way\n",
    "n = 10\n",
    "total = 0\n",
    "for i in range(n + 1):\n",
    "    if i % 2 == 0:\n",
    "        total += i\n",
    "print total\n",
    "\n",
    "#some more pythonic way if\n",
    "\n",
    "total = sum([i for i in range(n + 1) if i % 2 == 0])\n",
    "print total\n",
    "\n",
    "#using the slicing method\n",
    "n = 10\n",
    "total = sum((range(n + 1))[::2])\n",
    "print total"
   ]
  },
  {
   "cell_type": "markdown",
   "metadata": {},
   "source": [
    "### Lets see some of the examples that we have learn above"
   ]
  },
  {
   "cell_type": "code",
   "execution_count": 8,
   "metadata": {},
   "outputs": [
    {
     "name": "stdout",
     "output_type": "stream",
     "text": [
      "<type 'list'>\n",
      "<type 'list'>\n",
      "1\n",
      "2\n",
      "3\n",
      "lenght of the list is: 3\n",
      "[1, 2, 2]\n",
      "[2, 2, 2]\n",
      "after appending 10 [2, 2, 2, 10]\n",
      "after appending the ys [2, 2, 2, 10, [1, 'x', 3.143]]\n",
      "after extending the ys in to the list [2, 2, 2, 10, [1, 'x', 3.143], 1, 'x', 3.143]\n",
      "after removing the 1 from the list [2, 2, 2, 10, [1, 'x', 3.143], 'x', 3.143]\n",
      "[10, 'x']\n",
      "x\n",
      "2\n",
      "None\n"
     ]
    }
   ],
   "source": [
    "# create a new array\n",
    "xs = [1, 'x', 3.143]\n",
    "ys = list(xs) # here list() fuinction converts any datatype into the list\n",
    "#we can see the type of it by\n",
    "print type(xs)\n",
    "print type(ys)\n",
    "\n",
    "#Indexing\n",
    "my_list = [1, 2, 3]\n",
    "print my_list[0] #1\n",
    "print my_list[1] #2\n",
    "print my_list[-1] #3\n",
    "\n",
    "#length of the list\n",
    "print 'lenght of the list is:', len(my_list)\n",
    "\n",
    "#Assigment\n",
    "my_list[-1] = 2 #[1, 2, 2]\n",
    "print my_list\n",
    "\n",
    "my_list[0] = 2 #[2, ,2 ,2]\n",
    "print my_list\n",
    "\n",
    "#Append\n",
    "my_list.append(10) #[2, 2, 2, 10]\n",
    "print 'after appending 10', my_list\n",
    "my_list.append(ys) #[2, 2, 2, 10, [1, 'x', 3.143]]\n",
    "print 'after appending the ys', my_list\n",
    "\n",
    "#Extend\n",
    "my_list.extend(ys) #[2, 2, 2, 10, [1, 'x', 3.143], 1, 'x', 3.143]\n",
    "print 'after extending the ys in to the list', my_list\n",
    "\n",
    "#Remove\n",
    "my_list.remove(1) #[2, 2, 2, 10, [1, 'x', 3.143],'x', 3.143]\n",
    "print 'after removing the 1 from the list', my_list\n",
    "###note when ever we remove any element from the list using remove() it will remove the fiorst occurence.\n",
    "\n",
    "#Slicing\n",
    "start = 3\n",
    "stop = 6\n",
    "step = 2\n",
    "print my_list[start:stop:step]\n",
    "\n",
    "#min/max\n",
    "print max(my_list)\n",
    "print min(my_list)"
   ]
  },
  {
   "cell_type": "markdown",
   "metadata": {},
   "source": [
    "# Their are so many built in function in list\n",
    "like min, max, .sort(), .pop(), .append(), .insert() etc;"
   ]
  },
  {
   "cell_type": "markdown",
   "metadata": {},
   "source": [
    "### Some examples of list comprehension\n",
    "\n",
    "#### List comprehension is used to create a new list from an existing list\n",
    "\n",
    "#####  example: new_list = [f(x) for x in old_list]"
   ]
  },
  {
   "cell_type": "code",
   "execution_count": 10,
   "metadata": {},
   "outputs": [
    {
     "name": "stdout",
     "output_type": "stream",
     "text": [
      "[2, 4, 6]\n",
      "[2, 4, 6]\n"
     ]
    }
   ],
   "source": [
    "list1 = [1, 2, 3]\n",
    "list2 = []\n",
    "\n",
    "for x in list1:\n",
    "    list2.append(2 * x)\n",
    "print list2\n",
    "\n",
    "# using list comprehension\n",
    "list1 = [1, 2, 3]\n",
    "list2 = [2 * x for x in list1] #same result but less code! The beauty of python!\n",
    "print list2"
   ]
  },
  {
   "cell_type": "code",
   "execution_count": 13,
   "metadata": {},
   "outputs": [
    {
     "name": "stdout",
     "output_type": "stream",
     "text": [
      "[2, 4, 6]\n",
      "[2, 4, 6]\n"
     ]
    }
   ],
   "source": [
    "# example with a contidion\n",
    "list1 = [2, 3, 4, 5, 6]\n",
    "list2 = []\n",
    "\n",
    "for x in list1:\n",
    "    if x % 2 == 0:\n",
    "        list2.append(x)\n",
    "        \n",
    "print list2\n",
    "\n",
    "#list comprehension\n",
    "list1 = [2, 3, 4, 5, 6]\n",
    "list2 = [x for x in list1 if x % 2 == 0]\n",
    "print list2"
   ]
  },
  {
   "cell_type": "code",
   "execution_count": 14,
   "metadata": {},
   "outputs": [
    {
     "name": "stdout",
     "output_type": "stream",
     "text": [
      "[0, 0, 0, 5, 8, 11, 2, 2, 2]\n",
      "[0, 0, 0, 5, 8, 11, 2, 2, 2]\n"
     ]
    }
   ],
   "source": [
    "# Traditional\n",
    "list1 = [1, 2, 3]\n",
    "list2 = [3, 6, 9]\n",
    "list3 = []\n",
    "\n",
    "for x in list1:\n",
    "    for y in list2:\n",
    "        if x % 2 == 0:\n",
    "            list3.append(x + y)\n",
    "        else:\n",
    "            list3.append(x - 1)\n",
    "            \n",
    "print list3\n",
    "\n",
    "#list comprehension\n",
    "list3 = [x + y if x % 2 == 0 else x - 1 for x in list1 for y in list2]\n",
    "print list3"
   ]
  },
  {
   "cell_type": "markdown",
   "metadata": {},
   "source": [
    "## This tutorial is intended to be a public resource. As such, if you see any glaring inaccuracies or if a critical topic is missing, please feel free to point it out or (preferably) submit a pull request to improve the tutorial. Also, we are always looking to improve the scope of this article. For anything feel free to mail us @ colearninglounge@gmail.com"
   ]
  },
  {
   "cell_type": "markdown",
   "metadata": {},
   "source": [
    "## The author of this article is Malepati Yogesh Kumar. You can follow him on <a href='https://www.linkedin.com/in/malepati-yogesh-kumar-2136b6130/'>Linkedin</a>, <a href='https://github.com/Yogeshkumar1999'>GitHub</a>, <a href='https://twitter.com/yogeshmbs199'>Twitter</a>"
   ]
  },
  {
   "cell_type": "code",
   "execution_count": null,
   "metadata": {},
   "outputs": [],
   "source": []
  }
 ],
 "metadata": {
  "kernelspec": {
   "display_name": "Python 2",
   "language": "python",
   "name": "python2"
  },
  "language_info": {
   "codemirror_mode": {
    "name": "ipython",
    "version": 2
   },
   "file_extension": ".py",
   "mimetype": "text/x-python",
   "name": "python",
   "nbconvert_exporter": "python",
   "pygments_lexer": "ipython2",
   "version": "2.7.17"
  }
 },
 "nbformat": 4,
 "nbformat_minor": 2
}
