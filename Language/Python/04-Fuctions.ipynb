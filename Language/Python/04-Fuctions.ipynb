{
 "cells": [
  {
   "cell_type": "markdown",
   "metadata": {},
   "source": [
    "# Functions"
   ]
  },
  {
   "cell_type": "markdown",
   "metadata": {},
   "source": [
    "> Functions are a convenient way to divide your code into useful blocks, allowing us to order our code, make it more readable, reuse it and save some time. Also functions are a key  way to define interfaces so programmers can share their code."
   ]
  },
  {
   "cell_type": "markdown",
   "metadata": {},
   "source": [
    "> Functions in Python provide organized, reusable and modular code to perform a set of speciﬁc actions. Functions simplify the coding process, prevent redundant logic, and make the code easier to follow."
   ]
  },
  {
   "cell_type": "markdown",
   "metadata": {},
   "source": [
    "# Types Of Functions"
   ]
  },
  {
   "cell_type": "markdown",
   "metadata": {},
   "source": [
    "There are two types of functions -\n",
    "- Built-In Functions\n",
    "- User-defined functions"
   ]
  },
  {
   "cell_type": "markdown",
   "metadata": {},
   "source": [
    "> Python has many built-in functions like print(), input(), len(). Besides built-ins you can also create your own functions to do more speciﬁc jobs—these are called user-deﬁned functions."
   ]
  },
  {
   "cell_type": "markdown",
   "metadata": {},
   "source": [
    "---"
   ]
  },
  {
   "cell_type": "markdown",
   "metadata": {},
   "source": [
    "## Defining and Calling Functions"
   ]
  },
  {
   "cell_type": "markdown",
   "metadata": {},
   "source": [
    "### Using the 'def' statement is the most common way to deﬁne a function in python. This statement is a so called single clause compound statement with the following syntax:"
   ]
  },
  {
   "cell_type": "markdown",
   "metadata": {},
   "source": [
    "### Syntax"
   ]
  },
  {
   "cell_type": "markdown",
   "metadata": {},
   "source": [
    "`def function_name(parameters):    \n",
    "    statement(s)\n",
    "`"
   ]
  },
  {
   "cell_type": "markdown",
   "metadata": {},
   "source": [
    "**function_name :** It is known as the identiﬁer of the function. Since a function deﬁnition is an executable statement its execution binds the function name to the function object which can be called later on using the identiﬁer.<br><br>\n",
    "**parameters :**  An optional list of identiﬁers that get bound to the values supplied as arguments when the function is called. A function may have an arbitrary number of arguments which are separated by commas(,).<br><br>\n",
    "**statement(s) :** Also known as the function body – are a nonempty sequence of statements executed each time the function is called. This means a function body cannot be empty, just like any indented block."
   ]
  },
  {
   "cell_type": "markdown",
   "metadata": {},
   "source": [
    "### Example :"
   ]
  },
  {
   "cell_type": "code",
   "execution_count": 2,
   "metadata": {},
   "outputs": [
    {
     "name": "stdout",
     "output_type": "stream",
     "text": [
      "Hello\n"
     ]
    }
   ],
   "source": [
    "# defining a function\n",
    "def greet():    \n",
    "    print(\"Hello\")\n",
    "    \n",
    "#calling a function\n",
    "greet()"
   ]
  },
  {
   "cell_type": "markdown",
   "metadata": {},
   "source": [
    "---"
   ]
  },
  {
   "cell_type": "markdown",
   "metadata": {},
   "source": [
    "## Functions with  arguments"
   ]
  },
  {
   "cell_type": "markdown",
   "metadata": {},
   "source": [
    "- Simple or formal argument\n",
    "- default argument\n",
    "- variable length argument\n",
    "- keyword argument"
   ]
  },
  {
   "cell_type": "markdown",
   "metadata": {},
   "source": [
    "### Simple argument"
   ]
  },
  {
   "cell_type": "markdown",
   "metadata": {},
   "source": [
    "> Simple arguments are numberic values, strings, sequences etc"
   ]
  },
  {
   "cell_type": "code",
   "execution_count": 5,
   "metadata": {},
   "outputs": [
    {
     "name": "stdout",
     "output_type": "stream",
     "text": [
      "Passed argument is : 5\n",
      "Passed argument is : Student\n",
      "Passed argument is : 8.5\n",
      "Passed argument is : [1, 2.0, 'Akash']\n"
     ]
    }
   ],
   "source": [
    "# defing function with argument\n",
    "def my_func(arg):\n",
    "    print('Passed argument is :', arg)\n",
    "    \n",
    "# calling function\n",
    "my_func(5) # passing an integer\n",
    "my_func('Student') # passing a string\n",
    "my_func(8.5) # passing a float \n",
    "my_func([1,2.0,'Akash']) # passing a sequence/list"
   ]
  },
  {
   "cell_type": "code",
   "execution_count": 6,
   "metadata": {},
   "outputs": [
    {
     "name": "stdout",
     "output_type": "stream",
     "text": [
      "12\n",
      "10\n",
      "1\n"
     ]
    }
   ],
   "source": [
    "# defining funcion with more than one argument\n",
    "def add(x, y):\n",
    "    sum = x + y # adding both numbers and assign its result into a variable named sum\n",
    "    print(sum)\n",
    "    \n",
    "# calling function\n",
    "add(5, 7)\n",
    "add(9, 1)\n",
    "add(-3, 4)"
   ]
  },
  {
   "cell_type": "markdown",
   "metadata": {},
   "source": [
    "### default argument"
   ]
  },
  {
   "cell_type": "markdown",
   "metadata": {},
   "source": [
    "> python allows function arguments to have default values; if the function is called without the argument, the argument gets its default values."
   ]
  },
  {
   "cell_type": "code",
   "execution_count": 6,
   "metadata": {
    "scrolled": false
   },
   "outputs": [
    {
     "name": "stdout",
     "output_type": "stream",
     "text": [
      "Hello User\n",
      "Hello Surya\n"
     ]
    }
   ],
   "source": [
    "# example of default argument function\n",
    "def greet(name='User'):\n",
    "    print('Hello',name)\n",
    "    \n",
    "# function calling\n",
    "greet() # here default value will be use\n",
    "greet('Surya')"
   ]
  },
  {
   "cell_type": "code",
   "execution_count": 5,
   "metadata": {},
   "outputs": [
    {
     "name": "stdout",
     "output_type": "stream",
     "text": [
      "Surya is a Male\n",
      "Chhutki is a Female\n"
     ]
    }
   ],
   "source": [
    "def default_argv(name,sex='Male'):\n",
    "    print(name,'is a '+sex)\n",
    "    \n",
    "default_argv('Surya') # here default value will be use\n",
    "default_argv('Chhutki','Female')"
   ]
  },
  {
   "cell_type": "markdown",
   "metadata": {},
   "source": [
    "### variable length argument"
   ]
  },
  {
   "cell_type": "markdown",
   "metadata": {},
   "source": [
    "> The special syntax *args in function definations in python is used to pass a variable number of arguments to a function. It is used to pass a non-keyworded, variable-length argument list."
   ]
  },
  {
   "cell_type": "markdown",
   "metadata": {},
   "source": [
    "> *args allows us to do is take in more arguments than the number of formal arguments that you previously defined."
   ]
  },
  {
   "cell_type": "code",
   "execution_count": 7,
   "metadata": {},
   "outputs": [
    {
     "name": "stdout",
     "output_type": "stream",
     "text": [
      "Iron-Man\n",
      "Captain America\n",
      "Hulk\n",
      "Superman\n",
      "Batman\n"
     ]
    }
   ],
   "source": [
    "# example of variable-length argument function\n",
    "def var_len_args(*args): # *args for variable number of arguments\n",
    "    for arg in args:\n",
    "        print(arg) # printing each argument\n",
    "        \n",
    "var_len_args('Iron-Man','Captain America','Hulk','Superman','Batman')"
   ]
  },
  {
   "cell_type": "code",
   "execution_count": 8,
   "metadata": {},
   "outputs": [
    {
     "name": "stdout",
     "output_type": "stream",
     "text": [
      "Name : Alex\n",
      "Other details : ('Male', 19, 'CSE')\n"
     ]
    }
   ],
   "source": [
    "def student_info(name,*args):\n",
    "    print('Name :',name)\n",
    "    print('Other details :',args)\n",
    "    \n",
    "student_info('Alex','Male',19,'CSE')"
   ]
  },
  {
   "cell_type": "markdown",
   "metadata": {},
   "source": [
    "### keyword argument"
   ]
  },
  {
   "cell_type": "markdown",
   "metadata": {},
   "source": [
    "> If you define a parameter of a function preceded by ** (like- **kwargs), the function can receive any number of keyword argument."
   ]
  },
  {
   "cell_type": "markdown",
   "metadata": {},
   "source": [
    "> *kwargs allows us to do is take in more keyword-arguments than the number of formal arguments or keyword-arguments that you previously defined."
   ]
  },
  {
   "cell_type": "code",
   "execution_count": 15,
   "metadata": {},
   "outputs": [
    {
     "name": "stdout",
     "output_type": "stream",
     "text": [
      "{'one': 1, 'two': 2, 'three': 3}\n"
     ]
    }
   ],
   "source": [
    "# Example of keyword-arguments[**]\n",
    "def kwarg_ex(**kwargs):\n",
    "    print(kwargs)\n",
    "\n",
    "kwarg_ex(one=1,two=2,three=3) # key=value"
   ]
  },
  {
   "cell_type": "code",
   "execution_count": 17,
   "metadata": {},
   "outputs": [
    {
     "name": "stdout",
     "output_type": "stream",
     "text": [
      "Name : Alex\n",
      "{'gender': 'Male', 'age': 19, 'branch': 'CSE'}\n"
     ]
    }
   ],
   "source": [
    "def student_info(name,**kwargs):\n",
    "    print('Name :',name)\n",
    "    print(kwargs)\n",
    "    \n",
    "student_info('Alex',gender='Male',age=19,branch='CSE')"
   ]
  },
  {
   "cell_type": "markdown",
   "metadata": {},
   "source": [
    "**Note-**\n",
    "- *args receives multiple arguments as a tuple\n",
    "- **kwargs receives multiple keyword arguments as a dictionary"
   ]
  },
  {
   "cell_type": "markdown",
   "metadata": {},
   "source": [
    "---"
   ]
  },
  {
   "cell_type": "markdown",
   "metadata": {},
   "source": [
    "## Python return statement"
   ]
  },
  {
   "cell_type": "markdown",
   "metadata": {},
   "source": [
    "> A return statement is used to end the execution of the function call and \"returns\" the result(value of the expression or variable following by return keyword) to the caller. The statements after the return keyword is without any expression or variable, then the special value None is returned."
   ]
  },
  {
   "cell_type": "markdown",
   "metadata": {},
   "source": [
    "### Syntax"
   ]
  },
  {
   "cell_type": "markdown",
   "metadata": {},
   "source": [
    "`def func():\n",
    "    statement(s)\n",
    "    .\n",
    "    .\n",
    "    return <variable or expression>`"
   ]
  },
  {
   "cell_type": "markdown",
   "metadata": {},
   "source": [
    "### Example"
   ]
  },
  {
   "cell_type": "code",
   "execution_count": 18,
   "metadata": {},
   "outputs": [
    {
     "name": "stdout",
     "output_type": "stream",
     "text": [
      "5\n",
      "14\n"
     ]
    }
   ],
   "source": [
    "# add two numbers and return its sum\n",
    "def add(a, b):\n",
    "    return a+b\n",
    "\n",
    "print(add(3,2))\n",
    "print(add(9,5))"
   ]
  },
  {
   "cell_type": "code",
   "execution_count": 20,
   "metadata": {},
   "outputs": [
    {
     "name": "stdout",
     "output_type": "stream",
     "text": [
      "21\n",
      "50\n"
     ]
    }
   ],
   "source": [
    "# program to add multiple numbers and its sum\n",
    "def addition(*nums):\n",
    "    sum = 0 # initialize sum\n",
    "    for num in nums:\n",
    "        sum += num # adding every value to sum\n",
    "    return sum # returning total sum\n",
    "\n",
    "print(addition(1,2,3,4,5,6))\n",
    "print(addition(5,10,15,20))"
   ]
  },
  {
   "cell_type": "markdown",
   "metadata": {},
   "source": [
    "---"
   ]
  }
 ],
 "metadata": {
  "kernelspec": {
   "display_name": "Python 3",
   "language": "python",
   "name": "python3"
  },
  "language_info": {
   "codemirror_mode": {
    "name": "ipython",
    "version": 3
   },
   "file_extension": ".py",
   "mimetype": "text/x-python",
   "name": "python",
   "nbconvert_exporter": "python",
   "pygments_lexer": "ipython3",
   "version": "3.7.6"
  }
 },
 "nbformat": 4,
 "nbformat_minor": 4
}
