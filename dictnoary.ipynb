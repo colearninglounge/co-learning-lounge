{
 "cells": [
  {
   "cell_type": "markdown",
   "metadata": {},
   "source": [
    "<h1 align='center'>Python Dictionary</h1>\n",
    "\n",
    "<b>Dictionary</b> in Python is an unordered collection of data values, used to store data values like a map, which unlike other Data Types that hold only single value as an element, Dictionary holds the key: value pair.\n",
    "\n",
    "It defines one−to−one relationships between keys and values.\n",
    "\n",
    "The key value is provided in the dictionary to make it more optimized.\n",
    "\n",
    "Creating a Dictionary\n",
    "\n",
    "In Python, a Dictionary can be created by placing a sequence of elements within curly {} braces, separated by a comma.\n",
    "\n",
    "Dictionary holds a pair of values, one being the Key and the other corresponding pair element being its Key: value. Values in a dictionary can be of any data type and can be duplicated, whereas keys can’t be repeated and must be immutable.\n",
    "\n",
    "<b>Note</b> – Dictionary keys are case sensitive, same name but different cases of Key will be treated distinctly.\n",
    "The main thing about dictionary why it is fast while retrieving particular key is for every key it will calculate the hash value and store so whenever we want to search any key in dictionary it will create a hash of that key and search so the searching in dicty id O(1)"
   ]
  },
  {
   "cell_type": "code",
   "execution_count": 5,
   "metadata": {},
   "outputs": [
    {
     "name": "stdout",
     "output_type": "stream",
     "text": [
      "\n",
      "Dictionary with the use of Integer Keys: \n",
      "{1: 'We ', 2: 'are', 3: 'great'}\n",
      "\n",
      "Dictionary with the use of Mixed Keys: \n",
      "{1: [1, 2, 3, 4], 'Name': 'Ramana'}\n",
      "\n",
      "Name of the person is Ramana\n"
     ]
    }
   ],
   "source": [
    "# Creating a Dictionary  \n",
    "# with Integer Keys \n",
    "my_dict = {1: 'We ', 2: 'are', 3: 'great'} \n",
    "print(\"\\nDictionary with the use of Integer Keys: \") \n",
    "print(my_dict) \n",
    "  \n",
    "# Creating a Dictionary  \n",
    "# with Mixed keys \n",
    "my_dict = {'Name': 'Ramana', 1: [1, 2, 3, 4]} \n",
    "print(\"\\nDictionary with the use of Mixed Keys: \") \n",
    "print(my_dict) \n",
    "\n",
    "# We can retrive the data from the dictionary iusing the keys\n",
    "print\n",
    "print'Name of the person is', my_dict['Name']"
   ]
  },
  {
   "cell_type": "markdown",
   "metadata": {},
   "source": [
    "<h1 align='center'> Dictionary Keys are Case-Sensitive</h1>\n",
    "\n",
    "#### Lets see this with an example."
   ]
  },
  {
   "cell_type": "code",
   "execution_count": 9,
   "metadata": {},
   "outputs": [
    {
     "name": "stdout",
     "output_type": "stream",
     "text": [
      "Name of the person is Rama\n",
      "Name of the person is"
     ]
    },
    {
     "ename": "KeyError",
     "evalue": "'name'",
     "output_type": "error",
     "traceback": [
      "\u001b[0;31m---------------------------------------------------------------------------\u001b[0m",
      "\u001b[0;31mKeyError\u001b[0m                                  Traceback (most recent call last)",
      "\u001b[0;32m<ipython-input-9-c974eeedb559>\u001b[0m in \u001b[0;36m<module>\u001b[0;34m()\u001b[0m\n\u001b[1;32m      5\u001b[0m \u001b[0;34m\u001b[0m\u001b[0m\n\u001b[1;32m      6\u001b[0m \u001b[0;31m#When we try to retrive the name from the dictionary with all small letters.\u001b[0m\u001b[0;34m\u001b[0m\u001b[0;34m\u001b[0m\u001b[0m\n\u001b[0;32m----> 7\u001b[0;31m \u001b[0;32mprint\u001b[0m \u001b[0;34m\"Name of the person is\"\u001b[0m\u001b[0;34m,\u001b[0m\u001b[0mmy_dict\u001b[0m\u001b[0;34m[\u001b[0m\u001b[0;34m'name'\u001b[0m\u001b[0;34m]\u001b[0m\u001b[0;34m\u001b[0m\u001b[0m\n\u001b[0m",
      "\u001b[0;31mKeyError\u001b[0m: 'name'"
     ]
    }
   ],
   "source": [
    "my_dict = {'Name': 'Rama', 'Gender': 'Male'}\n",
    "\n",
    "#Trying to print the name of the person\n",
    "print \"Name of the person is\", my_dict['Name']\n",
    "\n",
    "#When we try to retrive the name from the dictionary with all small letters.\n",
    "print \"Name of the person is\",my_dict['name']"
   ]
  },
  {
   "cell_type": "markdown",
   "metadata": {},
   "source": [
    "#### When ever we try to retirve the data using the small name we are getting an exception as KeyError because the keys in the dictionary are case sensitive."
   ]
  },
  {
   "cell_type": "code",
   "execution_count": 11,
   "metadata": {},
   "outputs": [
    {
     "name": "stdout",
     "output_type": "stream",
     "text": [
      "Retriving the data pf small key value\n",
      "Retrivikng the data using Caps K other values\n"
     ]
    }
   ],
   "source": [
    "my_dict = {}\n",
    "\n",
    "# adding a key using all small letters\n",
    "my_dict['key'] = 'value'\n",
    "\n",
    "# Adding the key wiht capital K\n",
    "\n",
    "my_dict['Key'] = 'other values'\n",
    "\n",
    "print \"Retriving the data pf small key\",my_dict['key']\n",
    "\n",
    "print \"Retrivikng the data using Caps K\", my_dict['Key']\n",
    "\n"
   ]
  },
  {
   "cell_type": "markdown",
   "metadata": {},
   "source": [
    "##### Dictionary can also be created by the built-in function dict(). An empty dictionary can be created by just placing to curly braces{}."
   ]
  },
  {
   "cell_type": "code",
   "execution_count": 12,
   "metadata": {},
   "outputs": [
    {
     "name": "stdout",
     "output_type": "stream",
     "text": [
      "Empty Dictionary: \n",
      "{}\n",
      "\n",
      "Dictionary with the use of dict(): \n",
      "{1: 'We ', 2: 'are', 3: 'great'}\n",
      "\n",
      "Dictionary with each item as a pair: \n",
      "{1: 'Mango', 2: 'Apple'}\n"
     ]
    }
   ],
   "source": [
    "# Creating an empty Dictionary \n",
    "my_dict = {} \n",
    "print(\"Empty Dictionary: \") \n",
    "print(my_dict) \n",
    "  \n",
    "# Creating a Dictionary \n",
    "# with dict() method \n",
    "my_dict = {1: 'We ', 2: 'are', 3: 'great'}  \n",
    "print(\"\\nDictionary with the use of dict(): \") \n",
    "print(my_dict) \n",
    "  \n",
    "# Creating a Dictionary \n",
    "# with each item as a Pair \n",
    "my_dict = dict([(1, 'Mango'), (2, 'Apple')]) \n",
    "print(\"\\nDictionary with each item as a pair: \") \n",
    "print(my_dict)"
   ]
  },
  {
   "cell_type": "markdown",
   "metadata": {},
   "source": [
    "<h1 align='center'>Nested Dictonary</h1>\n"
   ]
  },
  {
   "cell_type": "code",
   "execution_count": null,
   "metadata": {},
   "outputs": [],
   "source": [
    "# Creating a Nested Dictionary  \n",
    "# as shown in the below image \n",
    "Dict = {1: 'Delhi', 2: 'Bengaluru',  \n",
    "        3:{'A' : 'Chennai', 'B' : 'Punjab', 'C' : 'Mumbai'}} \n",
    "  \n",
    "print(Dict)"
   ]
  },
  {
   "cell_type": "markdown",
   "metadata": {},
   "source": [
    "<h1 align='center'>Adding elements to a Dictionary</h1>\n",
    "\n",
    "In Python Dictionary, Addition of elements can be done in multiple ways. One value at a time can be added to a Dictionary by defining value along with the key e.g. Dict[Key] = ‘Value’. Updating an existing value in a Dictionary can be done by using the built-in update() method. Nested key values can also be added to an existing Dictionary.\n",
    "\n",
    "<b>Note</b>- While adding a value, if the key value already exists, the value gets updated otherwise a new Key with the value is added to the Dictionary."
   ]
  },
  {
   "cell_type": "code",
   "execution_count": null,
   "metadata": {},
   "outputs": [],
   "source": [
    "# Creating an empty Dictionary \n",
    "my_dict = {} \n",
    "print(\"Empty Dictionary: \") \n",
    "print(my_dict) \n",
    "  \n",
    "# Adding elements one at a time \n",
    "my_dict[0] = 'Bengaluru'\n",
    "my_dict[2] = 'For'\n",
    "my_dict[3] = 1\n",
    "print(\"\\nDictionary after adding 3 elements: \") \n",
    "print(my_dict) \n",
    "  \n",
    "# Adding set of values  \n",
    "# to a single Key \n",
    "my_dict['Value_set'] = 2, 3, 4\n",
    "print(\"\\nDictionary after adding 3 elements: \") \n",
    "print(my_dict) \n",
    "  \n",
    "# Updating existing Key's Value \n",
    "my_dict[2] = 'Welcome'\n",
    "print(\"\\nUpdated key value: \") \n",
    "print(my_dict) \n",
    "  \n",
    "# Adding Nested Key value to Dictionary \n",
    "my_dict[5] = {'Nested' :{'1' : 'Life', '2' : 'Happy'}} \n",
    "print(\"\\nAdding a Nested Key: \") \n",
    "print(my_dict)"
   ]
  },
  {
   "cell_type": "markdown",
   "metadata": {},
   "source": [
    "<h1 align='center'>Accessing elements from a Dictionary</h1>\n",
    "\n",
    "In order to access the items of a dictionary refer to its key name.Key can be used inside square brackets."
   ]
  },
  {
   "cell_type": "code",
   "execution_count": null,
   "metadata": {},
   "outputs": [],
   "source": [
    "# Python program to demonstrate   \n",
    "# accessing a element from a Dictionary  \n",
    "  \n",
    "# Creating a Dictionary  \n",
    "my_dict = {1: 'Colearning Lounge', 'name': 'For', 3: 'Students'} \n",
    "  \n",
    "# accessing a element using key \n",
    "print(\"Accessing a element using key:\") \n",
    "print(my_dict['name']) \n",
    "  \n",
    "# accessing a element using key \n",
    "print(\"Accessing a element using key:\") \n",
    "print(my_dict[1])"
   ]
  },
  {
   "cell_type": "markdown",
   "metadata": {},
   "source": [
    "##### There is also a method called get() that will also help in acessing the element from a dictionary."
   ]
  },
  {
   "cell_type": "code",
   "execution_count": null,
   "metadata": {},
   "outputs": [],
   "source": [
    "# Creating a Dictionary  \n",
    "my_dict = {1: 'Colearning Lounge', 'name': 'For', 3: 'Comunity'} \n",
    "  \n",
    "# accessing a element using get() \n",
    "# method \n",
    "print(\"Accessing a element using get:\") \n",
    "print(my_dict.get(3))"
   ]
  },
  {
   "cell_type": "markdown",
   "metadata": {},
   "source": [
    "#### Accessing element of a nested dictionary\n",
    "\n",
    "In order to access the value of any key in nested dictionary, use indexing [] syntax."
   ]
  },
  {
   "cell_type": "code",
   "execution_count": null,
   "metadata": {},
   "outputs": [],
   "source": [
    "# Creating a Dictionary \n",
    "my_dict = {'Dict1': {1: 'A'}, \n",
    "        'Dict2': {'Name': 'For Apple'}} \n",
    "  \n",
    "# Accessing element using key \n",
    "print(my_dict['Dict1']) \n",
    "print(my_dict['Dict1'][1]) \n",
    "print(my_dict['Dict2']['Name'])"
   ]
  },
  {
   "cell_type": "markdown",
   "metadata": {},
   "source": [
    "<h1 align='center'>Removing Elements from Dictionary</h1>\n",
    "\n",
    "Using <b>del</b> keyword.\n",
    "\n",
    "In Python Dictionary, deletion of keys can be done by using the del keyword. Using del keyword, specific values from a dictionary as well as whole dictionary can be deleted. Items in a Nested dictionary can also be deleted by using del keyword and providing specific nested key and particular key to be deleted from that nested Dictionary.\n",
    "\n",
    "<b>Note</b>- del Dict will delete the entire dictionary and hence printing it after deletion will raise an Error."
   ]
  },
  {
   "cell_type": "code",
   "execution_count": null,
   "metadata": {},
   "outputs": [],
   "source": [
    "# Initial Dictionary \n",
    "my_dict = { 5 : 'Welcome', 6 : 'To', 7 : 'CoLearningLounge', \n",
    "        'A' : {1 : 'CoLearningLounge', 2 : 'For', 3 : 'Comunity'}, \n",
    "        'B' : {1 : 'Good', 2 : 'Life'}} \n",
    "print(\"Initial Dictionary: \") \n",
    "print(my_dict) \n",
    "  \n",
    "# Deleting a Key value \n",
    "del my_dict[6] \n",
    "print(\"\\nDeleting a specific key: \") \n",
    "print(my_dict) \n",
    "  \n",
    "# Deleting a Key from \n",
    "# Nested Dictionary \n",
    "del my_dict['A'][2] \n",
    "print(\"\\nDeleting a key from Nested Dictionary: \") \n",
    "print(my_dict) "
   ]
  },
  {
   "cell_type": "markdown",
   "metadata": {},
   "source": [
    "<b>Using pop() method.</b>\n",
    "\n",
    "Pop() method is used to return and delete the value of the key specified."
   ]
  },
  {
   "cell_type": "code",
   "execution_count": null,
   "metadata": {},
   "outputs": [],
   "source": [
    "# Creating a Dictionary \n",
    "my_dict = {1: 'Colearning Lounge', 'name': 'For', 3: 'Comunity'} \n",
    "  \n",
    "# Deleting a key  \n",
    "# using pop() method \n",
    "pop_ele = my_dict.pop(1) \n",
    "print('\\nDictionary after deletion: ' + str(my_dict)) \n",
    "print('Value associated to poped key is: ' + str(pop_ele)) "
   ]
  },
  {
   "cell_type": "markdown",
   "metadata": {},
   "source": [
    "#### Using popitem() method.\n",
    "\n",
    "The popitem() returns and removes an arbitrary element (key, value) pair from the dictionary."
   ]
  },
  {
   "cell_type": "code",
   "execution_count": null,
   "metadata": {},
   "outputs": [],
   "source": [
    "# Creating Dictionary \n",
    "my_dict = {1: 'Colearning Lounge', 'name': 'For', 3: 'Comunity'} \n",
    "  \n",
    "# Deleting an arbitrary key \n",
    "# using popitem() function \n",
    "pop_ele = my_dict.popitem() \n",
    "print(\"\\nDictionary after deletion: \" + str(my_dict)) \n",
    "print(\"The arbitrary pair returned is: \" + str(pop_ele))"
   ]
  },
  {
   "cell_type": "markdown",
   "metadata": {},
   "source": [
    "#### Using clear() method\n",
    "All the items from a dictionary can be deleted at once by using clear() method."
   ]
  },
  {
   "cell_type": "code",
   "execution_count": null,
   "metadata": {},
   "outputs": [],
   "source": [
    "# Creating a Dictionary \n",
    "my_dict = {1: 'Colearning Lounge', 'name': 'For', 3: 'Comunity'}\n",
    "  \n",
    "  \n",
    "# Deleting entire Dictionary \n",
    "my_dict.clear() \n",
    "print(\"\\nDeleting Entire Dictionary: \") \n",
    "print(my_dict)"
   ]
  },
  {
   "cell_type": "markdown",
   "metadata": {},
   "source": [
    "# Example\n"
   ]
  },
  {
   "cell_type": "markdown",
   "metadata": {},
   "source": [
    "'''When Natásha ran out of the drawing room she only went as far as the conservatory. There she paused and stood listening to the conversation\n",
    "in the drawing room, waiting for Borís to come out. She was already growing impatient, and stamped her foot, ready to cry at his not coming at once, when she heard the young man’s discreet steps approaching\n",
    "neither quickly nor slowly. At this Natásha dashed swiftly among the\n",
    "flower tubs and hid there.Borís paused in the middle of the room, looked round, brushed a little\n",
    "dust from the sleeve of his uniform, and going up to a mirror examined\n",
    "his handsome face. Natásha, very still, peered out from her ambush,\n",
    "waiting to see what he would do. He stood a little while before the\n",
    "glass, smiled, and walked toward the other door. Natásha was about to\n",
    "call him but changed her mind. “Let him look for me,” thought she.\n",
    "Hardly had Borís gone than Sónya, flushed, in tears, and muttering\n",
    "angrily, came in at the other door. Natásha checked her first impulse\n",
    "to run out to her, and remained in her hiding place, watching—as\n",
    "under an invisible cap—to see what went on in the world. She was\n",
    "experiencing a new and peculiar pleasure. Sónya, muttering to herself,\n",
    "kept looking round toward the drawing room door. It opened and Nicholas\n",
    "came in.“Sónya, what is the matter with you? How can you?” said he, running\n",
    "up to her.“It’s nothing, nothing; leave me alone!” sobbed Sónya.“Ah, I know what it is.”“Well, if you do, so much the better, and you can go back to her!”“Só-o-onya! Look here! How can you torture me and yourself like that,\n",
    "for a mere fancy?” said Nicholas taking her hand.Sónya did not pull it away, and left off crying. Natásha, not stirring\n",
    "and scarcely breathing, watched from her ambush with sparkling eyes.\n",
    "“What will happen now?” thought she.“Sónya! What is anyone in the world to me? You alone are\n",
    "everything!” said Nicholas. “And I will prove it to you.”\n",
    "\n",
    "'''\n"
   ]
  },
  {
   "cell_type": "markdown",
   "metadata": {},
   "source": [
    "## Count the total no. of words, unique no. of words, frequency of each word"
   ]
  },
  {
   "cell_type": "code",
   "execution_count": 1,
   "metadata": {},
   "outputs": [],
   "source": [
    "f = open('cll.txt', 'r')\n",
    "# list of lines in file\n",
    "data = f.readlines()\n",
    "f.close()"
   ]
  },
  {
   "cell_type": "code",
   "execution_count": 2,
   "metadata": {},
   "outputs": [
    {
     "name": "stdout",
     "output_type": "stream",
     "text": [
      "('Time take to form a freqency dict', 0.0005228519439697266)\n",
      "('Total No of words in the file is:', 547)\n",
      "('Total No of unique words in file is:', 282)\n"
     ]
    }
   ],
   "source": [
    "import re\n",
    "from collections import defaultdict\n",
    "import time\n",
    "\n",
    "#declaring the dictonary with defaukt value as zero.\n",
    "frequency_of_words = {}\n",
    "frequency_of_words = defaultdict(lambda: 0, frequency_of_words)\n",
    "\n",
    "#empty list \n",
    "list_of_words = []\n",
    "\n",
    "#pre processing each line in file\n",
    "for line in data:\n",
    "    #cleaning the data removing the punctuation!\n",
    "    line = re.sub(r'[^\\w\\d\\s]', '', line)\n",
    "    #stripping and spliting the string\n",
    "    line = line.strip().split()\n",
    "    #extrencdiong the list in to list_of_words\n",
    "    list_of_words.extend(line)\n",
    "\n",
    "start = time.time()\n",
    "#looping torugh the list_of_words to calculate the frequency of the words in file.\n",
    "for word in list_of_words:\n",
    "    frequency_of_words[word] += 1\n",
    "print(\"Time take to form a freqency dict\",time.time() - start)\n",
    "        \n",
    "print(\"Total No of words in the file is:\", len(list_of_words))\n",
    "print(\"Total No of unique words in file is:\",len(set(list_of_words)))"
   ]
  },
  {
   "cell_type": "code",
   "execution_count": 3,
   "metadata": {},
   "outputs": [
    {
     "name": "stdout",
     "output_type": "stream",
     "text": [
      "defaultdict(<function <lambda> at 0x7f4846375250>, {'replied': 1, 'all': 1, 'among': 1, 'visitor': 1, 'Vasli': 3, 'month': 1, 'seen': 1, 'telling': 1, 'shone': 1, 'go': 2, 'still': 1, 'pleased': 1, 'Anna': 4, 'seemed': 1, 'like': 1, 'rose': 1, 'whoever': 1, 'had': 2, 'young': 3, 'French': 1, 'laughing': 1, 'to': 25, 'only': 1, 'pretty': 1, 'smile': 2, 'sorry': 1, 'handsome': 2, 'friendly': 1, 'round': 1, 'gave': 1, 'vicomte': 2, 'then': 1, 'them': 3, 'his': 14, 'wished': 1, 'coquettish': 1, 'very': 2, 'between': 1, 'none': 1, 'bear': 1, 'me': 6, 'touching': 1, 'rapturous': 1, 'She': 1, 'holding': 2, 'not': 3, 'world': 1, 'now': 2, 'him': 8, 'I': 5, 'look': 1, 'disturb': 1, 'necessary': 1, 'name': 1, 'Just': 1, 'In': 1, 'interrupt': 1, 'Nothing': 1, 'leave': 1, 'chairs': 1, 'grimace': 1, 'found': 2, 'Prince': 10, 'husband': 2, 'Before': 1, 'prevent': 1, 'Educate': 1, 'everyone': 1, 'folds': 1, 'unexpectedly': 1, 'society': 2, 'added': 1, 'are': 2, 'pass': 1, 'dear': 1, 'ambassadors': 1, 'bore': 1, 'Buonaparte': 1, 'arm': 2, 'obliges': 1, 'Andr': 1, 'said': 10, 'for': 2, 'Very': 2, 'away': 2, 'lovely': 1, 'kind': 1, 'when': 1, 'expressing': 1, 'Hlne': 1, 'screwed': 1, 'got': 1, 'tiresome': 1, 'Frenchman': 2, 'contrast': 1, 'He': 4, 'be': 2, 'who': 2, 'turning': 1, 'This': 1, 'men': 2, 'continuing': 1, 'story': 1, 'here': 1, 'weary': 1, 'pleasant': 1, 'step': 1, 'His': 1, 'let': 1, 'ask': 1, 'come': 1, 'princess': 1, 'on': 1, 'about': 2, 'generals': 1, 'last': 1, 'would': 1, 'of': 7, 'am': 1, 'quiet': 2, 'George': 1, 'women': 1, 'must': 1, 'Pierres': 3, 'faces': 1, 'passing': 1, 'expression': 1, 'or': 1, 'deprives': 1, 'beautiful': 1, 'clearcut': 1, 'gazed': 1, 'features': 1, 'striking': 1, 'There': 1, 'height': 1, 'down': 1, 'Everything': 1, 'rising': 1, 'another': 1, 'aidedecamp': 1, 'impossible': 1, 'frightened': 1, 'your': 3, 'Vicomte': 1, 'annoyance': 1, 'little': 2, 'from': 3, 'spoke': 1, 'her': 5, 'there': 1, 'question': 1, 'two': 1, 'been': 3, 'by': 1, 'much': 1, 'too': 1, 'way': 1, 'time': 1, 'show': 1, 'Pvlovna': 3, 'entered': 2, 'bored': 1, 'was': 5, 'war': 1, 'speaking': 1, 'listen': 1, 'firm': 1, 'Pvlovnas': 1, 'eyes': 4, 'medium': 1, 'passed': 2, 'that': 7, 'something': 1, 'great': 1, 'offered': 1, 'screwing': 1, 'took': 1, 'but': 3, 'stressing': 1, 'No': 1, 'excuse': 1, 'So': 1, 'low': 1, 'ashamed': 1, 'daughter': 2, 'with': 7, 'glad': 1, 'he': 8, 'And': 2, 'Mademoiselle': 1, 'wearied': 1, 'has': 3, 'room': 3, 'evident': 1, 'these': 1, 'Kutzov': 1, 'this': 2, 'up': 5, 'us': 2, 'General': 1, 'will': 2, 'pressing': 1, 'unfortunate': 1, 'country': 1, 'voice': 1, 'say': 1, 'manner': 1, 'and': 13, 'addressing': 1, 'have': 1, 'lightly': 1, 'affectionate': 1, 'almost': 1, 'is': 2, 'in': 7, 'turned': 2, 'it': 1, 'an': 2, 'deprive': 1, 'as': 5, 'scanned': 1, 'at': 4, 'enchanting': 1, 'distorted': 1, 'need': 1, 'watched': 1, 'You': 2, 'kissed': 1, 'saw': 1, 'she': 2, 'tedious': 1, 'looked': 1, 'beaming': 1, 'no': 1, 'May': 1, 'dress': 1, 'clever': 1, 'Are': 1, 'Andrew': 6, 'same': 1, 'fete': 1, 'other': 1, 'take': 1, 'which': 1, 'sleeve': 1, 'party': 1, 'you': 5, 'Pierre': 5, 'company': 1, 'seized': 1, 'staying': 1, 'Bolknski': 2, 'again': 1, 'syllable': 1, 'frowned': 1, 'knew': 2, 'Princess': 1, 'hand': 3, 'most': 1, 'moment': 2, 'supper': 1, 'such': 1, 'charming': 1, 'measured': 1, 'Lise': 1, 'man': 2, 'a': 10, 'off': 1, 'wife': 5, 'whole': 2, 'It': 1, 'face': 3, 'tale': 1, 'more': 2, 'so': 5, 'radiantly': 1, 'pleasure': 1, 'the': 24, 'first': 1, 'drawing': 2, 'came': 1})\n"
     ]
    }
   ],
   "source": [
    "print frequency_of_words"
   ]
  },
  {
   "cell_type": "code",
   "execution_count": 7,
   "metadata": {},
   "outputs": [
    {
     "name": "stdout",
     "output_type": "stream",
     "text": [
      "0.000626087188721\n"
     ]
    }
   ],
   "source": [
    "#other method to calculate the frequerncy of the words\n",
    "from collections import Counter\n",
    "start = time.time()\n",
    "frequency  = Counter(list_of_words)\n",
    "print time.time() - start"
   ]
  },
  {
   "cell_type": "markdown",
   "metadata": {},
   "source": [
    "### This tutorial is intended to be a public resource. As such, if you see any glaring inaccuracies or if a critical topic is missing, please feel free to point it out or (preferably) submit a pull request to improve the tutorial. Also, we are always looking to improve the scope of this article. For anything feel free to mail us @ colearninglounge@gmail.com"
   ]
  },
  {
   "cell_type": "markdown",
   "metadata": {},
   "source": [
    "### The author of this article is Malepati Yogesh Kumar. You can follow him on <a href='https://www.linkedin.com/in/malepati-yogesh-kumar-2136b6130/'>Linkedin</a>, <a href='https://github.com/Yogeshkumar1999'>GitHub</a>, <a href='https://twitter.com/yogeshmbs199'>Twitter</a>"
   ]
  },
  {
   "cell_type": "code",
   "execution_count": null,
   "metadata": {},
   "outputs": [],
   "source": []
  }
 ],
 "metadata": {
  "kernelspec": {
   "display_name": "Python 2",
   "language": "python",
   "name": "python2"
  },
  "language_info": {
   "codemirror_mode": {
    "name": "ipython",
    "version": 2
   },
   "file_extension": ".py",
   "mimetype": "text/x-python",
   "name": "python",
   "nbconvert_exporter": "python",
   "pygments_lexer": "ipython2",
   "version": "2.7.17"
  }
 },
 "nbformat": 4,
 "nbformat_minor": 2
}
